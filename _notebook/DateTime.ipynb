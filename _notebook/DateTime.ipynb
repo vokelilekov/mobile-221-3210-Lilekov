{
 "cells": [
  {
   "cell_type": "markdown",
   "metadata": {},
   "source": [
    "# Дата и Время"
   ]
  },
  {
   "cell_type": "code",
   "execution_count": 1,
   "metadata": {
    "dotnet_interactive": {
     "language": "csharp"
    },
    "polyglot_notebook": {
     "kernelName": "csharp"
    }
   },
   "outputs": [
    {
     "name": "stdout",
     "output_type": "stream",
     "text": [
      "03.10.2024 16:37:05\n",
      "3\n",
      "Thursday\n",
      "277\n"
     ]
    }
   ],
   "source": [
    "Console.WriteLine(DateTime.Now);\n",
    "Console.WriteLine(DateTime.Now.Day);\n",
    "Console.WriteLine(DateTime.Now.DayOfWeek);\n",
    "Console.WriteLine(DateTime.Now.DayOfYear);"
   ]
  },
  {
   "cell_type": "code",
   "execution_count": 8,
   "metadata": {},
   "outputs": [
    {
     "name": "stdout",
     "output_type": "stream",
     "text": [
      "16:31:01.7379410\n",
      "16\n",
      "16\n",
      "16\n",
      "16\n"
     ]
    }
   ],
   "source": [
    "Console.WriteLine(DateTime.Now.TimeOfDay);\n",
    "Console.WriteLine(DateTime.Now.TimeOfDay.Hours);\n",
    "Console.WriteLine(DateTime.Now.TimeOfDay.Hours);\n",
    "Console.WriteLine(DateTime.Now.TimeOfDay.ToString(\"hh\"));\n",
    "Console.WriteLine(DateTime.Now.Hour);"
   ]
  },
  {
   "cell_type": "code",
   "execution_count": 14,
   "metadata": {},
   "outputs": [
    {
     "name": "stdout",
     "output_type": "stream",
     "text": [
      "03.10.2024 16:32:53\n",
      "03 октября 2024\n"
     ]
    }
   ],
   "source": [
    "var dt = DateTime.Now;\n",
    "Console.WriteLine($\"{dt}\");\n",
    "Console.WriteLine($\"{dt:dd MMMM yyyy}\");"
   ]
  },
  {
   "cell_type": "code",
   "execution_count": 23,
   "metadata": {},
   "outputs": [
    {
     "name": "stdout",
     "output_type": "stream",
     "text": [
      "16:36\n",
      "16:36:35 6771192\n",
      "16:36:35 +03:00\n"
     ]
    }
   ],
   "source": [
    "var dt = DateTime.Now;\n",
    "Console.WriteLine($\"{dt:HH:mm}\");\n",
    "Console.WriteLine($\"{dt:HH:mm:ss fffffff}\");\n",
    "Console.WriteLine($\"{dt:HH:mm:ss K}\");"
   ]
  },
  {
   "cell_type": "code",
   "execution_count": 25,
   "metadata": {},
   "outputs": [
    {
     "name": "stdout",
     "output_type": "stream",
     "text": [
      "09.05.1945 00:00:00\r\n"
     ]
    }
   ],
   "source": [
    "var dt = new DateTime(1945, 5, 9);\n",
    "Console.WriteLine(dt)"
   ]
  },
  {
   "cell_type": "code",
   "execution_count": 97,
   "metadata": {},
   "outputs": [
    {
     "name": "stdout",
     "output_type": "stream",
     "text": [
      "09.05.1945\r\n"
     ]
    }
   ],
   "source": [
    "// var dt = new DateOnly(1945, 5, 9);\n",
    "var dt = new DateOnly(year:1945, month:5, day:9);\n",
    "Console.WriteLine(dt)"
   ]
  },
  {
   "cell_type": "code",
   "execution_count": 101,
   "metadata": {},
   "outputs": [
    {
     "name": "stdout",
     "output_type": "stream",
     "text": [
      "13:50\n",
      "14:30\n"
     ]
    }
   ],
   "source": [
    "var timeStart = new TimeOnly(hour:13, minute:50);\n",
    "Console.WriteLine(timeStart);\n",
    "var timeEnd =  timeStart.AddMinutes(40);\n",
    "Console.WriteLine(timeEnd);"
   ]
  }
 ],
 "metadata": {
  "kernelspec": {
   "display_name": ".NET (C#)",
   "language": "C#",
   "name": ".net-csharp"
  },
  "polyglot_notebook": {
   "kernelInfo": {
    "defaultKernelName": "csharp",
    "items": [
     {
      "aliases": [],
      "languageName": "csharp",
      "name": "csharp"
     }
    ]
   }
  }
 },
 "nbformat": 4,
 "nbformat_minor": 2
}
