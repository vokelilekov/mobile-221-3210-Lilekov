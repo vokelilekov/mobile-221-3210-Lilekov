{
 "cells": [
  {
   "cell_type": "markdown",
   "metadata": {},
   "source": [
    "# Дата и Время"
   ]
  },
  {
   "cell_type": "code",
   "execution_count": 1,
   "metadata": {
    "dotnet_interactive": {
     "language": "csharp"
    },
    "polyglot_notebook": {
     "kernelName": "csharp"
    }
   },
   "outputs": [],
   "source": [
    "Console.WriteLine(DateTime.Now);\n",
    "Console.WriteLine(DateTime.Now.Day);\n",
    "Console.WriteLine(DateTime.Now.DayOfWeek);\n",
    "Console.WriteLine(DateTime.Now.DayOfYear);"
   ]
  },
  {
   "cell_type": "code",
   "execution_count": 8,
   "metadata": {
    "dotnet_interactive": {
     "language": "csharp"
    },
    "polyglot_notebook": {
     "kernelName": "csharp"
    }
   },
   "outputs": [],
   "source": [
    "Console.WriteLine(DateTime.Now.TimeOfDay);\n",
    "Console.WriteLine(DateTime.Now.TimeOfDay.Hours);\n",
    "Console.WriteLine(DateTime.Now.TimeOfDay.Hours);\n",
    "Console.WriteLine(DateTime.Now.TimeOfDay.ToString(\"hh\"));\n",
    "Console.WriteLine(DateTime.Now.Hour);"
   ]
  },
  {
   "cell_type": "code",
   "execution_count": 14,
   "metadata": {
    "dotnet_interactive": {
     "language": "csharp"
    },
    "polyglot_notebook": {
     "kernelName": "csharp"
    }
   },
   "outputs": [],
   "source": [
    "var dt = DateTime.Now;\n",
    "Console.WriteLine($\"{dt}\");\n",
    "Console.WriteLine($\"{dt:dd MMMM yyyy}\");"
   ]
  },
  {
   "cell_type": "code",
   "execution_count": 23,
   "metadata": {
    "dotnet_interactive": {
     "language": "csharp"
    },
    "polyglot_notebook": {
     "kernelName": "csharp"
    }
   },
   "outputs": [],
   "source": [
    "var dt = DateTime.Now;\n",
    "Console.WriteLine($\"{dt:HH:mm}\");\n",
    "Console.WriteLine($\"{dt:HH:mm:ss fffffff}\");\n",
    "Console.WriteLine($\"{dt:HH:mm:ss K}\");"
   ]
  },
  {
   "cell_type": "code",
   "execution_count": 25,
   "metadata": {
    "dotnet_interactive": {
     "language": "csharp"
    },
    "polyglot_notebook": {
     "kernelName": "csharp"
    }
   },
   "outputs": [],
   "source": [
    "var dt = new DateTime(1945, 5, 9);\n",
    "Console.WriteLine(dt)"
   ]
  },
  {
   "cell_type": "code",
   "execution_count": 97,
   "metadata": {
    "dotnet_interactive": {
     "language": "csharp"
    },
    "polyglot_notebook": {
     "kernelName": "csharp"
    }
   },
   "outputs": [],
   "source": [
    "// var dt = new DateOnly(1945, 5, 9);\n",
    "var dt = new DateOnly(year:1945, month:5, day:9);\n",
    "Console.WriteLine(dt)"
   ]
  },
  {
   "cell_type": "code",
   "execution_count": 101,
   "metadata": {
    "dotnet_interactive": {
     "language": "csharp"
    },
    "polyglot_notebook": {
     "kernelName": "csharp"
    }
   },
   "outputs": [
    {
     "name": "stdout",
     "output_type": "stream",
     "text": [
      "13:50\n",
      "14:30\n"
     ]
    }
   ],
   "source": [
    "var timeStart = new TimeOnly(hour:13, minute:50);\n",
    "Console.WriteLine(timeStart);\n",
    "var timeEnd =  timeStart.AddMinutes(40);\n",
    "Console.WriteLine(timeEnd);"
   ]
  },
  {
   "cell_type": "code",
   "execution_count": 22,
   "metadata": {},
   "outputs": [
    {
     "name": "stdout",
     "output_type": "stream",
     "text": [
      "10.10.2024 14:48:39\n",
      "01:50:00\n",
      "10.10.2024 16:38:39\n",
      "110\n",
      "14.00:00:00\n",
      "24.10.2024 14:48:39\n"
     ]
    }
   ],
   "source": [
    "var dt = DateTime.Now;\n",
    "Console.WriteLine(dt);\n",
    "\n",
    "var t_1h_50m = new TimeSpan(hours:1, minutes:50, seconds:0);\n",
    "Console.WriteLine(t_1h_50m);\n",
    "Console.WriteLine(dt + t_1h_50m);\n",
    "Console.WriteLine(t_1h_50m.TotalMinutes);\n",
    "\n",
    "var t_2w = TimeSpan.FromDays(7 * 2);\n",
    "Console.WriteLine(t_2w);\n",
    "Console.WriteLine(dt + t_2w);\n",
    "\n"
   ]
  }
 ],
 "metadata": {
  "kernelspec": {
   "display_name": ".NET (C#)",
   "language": "C#",
   "name": ".net-csharp"
  },
  "polyglot_notebook": {
   "kernelInfo": {
    "defaultKernelName": "csharp",
    "items": [
     {
      "aliases": [],
      "languageName": "csharp",
      "name": "csharp"
     }
    ]
   }
  }
 },
 "nbformat": 4,
 "nbformat_minor": 2
}
