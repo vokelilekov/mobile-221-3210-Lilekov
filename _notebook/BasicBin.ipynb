{
 "cells": [
  {
   "cell_type": "markdown",
   "metadata": {},
   "source": [
    "# Битовые операции"
   ]
  },
  {
   "cell_type": "code",
   "execution_count": 16,
   "metadata": {},
   "outputs": [
    {
     "name": "stdout",
     "output_type": "stream",
     "text": [
      "0011 = x\n",
      "0101 = y\n",
      "\n",
      "0001 - AND\n",
      "0111 - OR\n",
      "0110 - XOR\n",
      "\n",
      "0110 - x << 1\n",
      "0001 - x >> 1\n"
     ]
    }
   ],
   "source": [
    "byte x = 3;\n",
    "byte y = 5;\n",
    "Console.WriteLine($\"{x:B4} = x\");\n",
    "Console.WriteLine($\"{y:B4} = y\");\n",
    "Console.WriteLine($\"\\n{x & y:B4} - AND\");\n",
    "Console.WriteLine($\"{x | y:B4} - OR\");\n",
    "Console.WriteLine($\"{x ^ y:B4} - XOR\");\n",
    "Console.WriteLine($\"\\n{x << 1:B4} - x << 1\");\n",
    "Console.WriteLine($\"{x >> 1:B4} - x >> 1\");"
   ]
  },
  {
   "cell_type": "code",
   "execution_count": 18,
   "metadata": {},
   "outputs": [
    {
     "name": "stdout",
     "output_type": "stream",
     "text": [
      "False - AND\n",
      "True - OR\n",
      "True - XOR\n"
     ]
    }
   ],
   "source": [
    "var x = true;\n",
    "var y = false;\n",
    "Console.WriteLine($\"{x & y} - AND\");\n",
    "Console.WriteLine($\"{x | y} - OR\");\n",
    "Console.WriteLine($\"{x ^ y} - XOR\");"
   ]
  },
  {
   "cell_type": "code",
   "execution_count": 23,
   "metadata": {},
   "outputs": [
    {
     "name": "stdout",
     "output_type": "stream",
     "text": [
      "11111111111111111111111111111100\r\n"
     ]
    }
   ],
   "source": [
    "var x = 3;\n",
    "Console.WriteLine($\"{~x:B}\");"
   ]
  },
  {
   "cell_type": "code",
   "execution_count": 32,
   "metadata": {},
   "outputs": [
    {
     "name": "stdout",
     "output_type": "stream",
     "text": [
      "i << 0 =   1 | 00000001\n",
      "i << 1 =   2 | 00000010\n",
      "i << 2 =   4 | 00000100\n",
      "i << 3 =   8 | 00001000\n",
      "i << 4 =  16 | 00010000\n",
      "i << 5 =  32 | 00100000\n",
      "i << 6 =  64 | 01000000\n",
      "i << 7 = 128 | 10000000\n"
     ]
    }
   ],
   "source": [
    "for (int i = 0; i < 8; i++)\n",
    "{\n",
    "    var r = 1 << i;\n",
    "    Console.WriteLine($\"i << {i} = {r,3} | {r,8:B8}\");\n",
    "}"
   ]
  },
  {
   "cell_type": "code",
   "execution_count": 42,
   "metadata": {},
   "outputs": [
    {
     "name": "stdout",
     "output_type": "stream",
     "text": [
      "0\n",
      "False\n"
     ]
    }
   ],
   "source": [
    "// Q Как проверить бит по маске?\n",
    "var        n = 0b_0001_0101;\n",
    "var checkBit = 0b_0010_0000; \n",
    "Console.WriteLine(n & checkBit);\n",
    "Console.WriteLine((n & checkBit) != 0);"
   ]
  },
  {
   "cell_type": "code",
   "execution_count": 47,
   "metadata": {},
   "outputs": [
    {
     "name": "stdout",
     "output_type": "stream",
     "text": [
      "00000100\n",
      "True\n"
     ]
    }
   ],
   "source": [
    "// Q Как проверить бит по номеру?\n",
    "//              7654 3210\n",
    "var      n = 0b_0001_0101;\n",
    "var numBit = 3;\n",
    "Console.WriteLine($\"{1 << numBit:B8}\");\n",
    "Console.WriteLine((n & 1 << numBit) != 0);"
   ]
  }
 ],
 "metadata": {
  "kernelspec": {
   "display_name": ".NET (C#)",
   "language": "C#",
   "name": ".net-csharp"
  },
  "polyglot_notebook": {
   "kernelInfo": {
    "defaultKernelName": "csharp",
    "items": [
     {
      "aliases": [],
      "languageName": "csharp",
      "name": "csharp"
     }
    ]
   }
  }
 },
 "nbformat": 4,
 "nbformat_minor": 2
}
