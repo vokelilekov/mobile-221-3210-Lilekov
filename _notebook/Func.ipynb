{
 "cells": [
  {
   "cell_type": "markdown",
   "metadata": {},
   "source": [
    "# Функции"
   ]
  },
  {
   "cell_type": "code",
   "execution_count": null,
   "metadata": {},
   "outputs": [
    {
     "name": "stdout",
     "output_type": "stream",
     "text": [
      "Строка\r\n"
     ]
    }
   ],
   "source": [
    "void PrintScreen()\n",
    "{\n",
    "    Console.WriteLine(\"Строка\");\n",
    "}\n",
    "\n",
    "PrintScreen();"
   ]
  },
  {
   "cell_type": "code",
   "execution_count": null,
   "metadata": {},
   "outputs": [
    {
     "name": "stdout",
     "output_type": "stream",
     "text": [
      "3\n",
      "3\n",
      "3\n",
      "3\n"
     ]
    }
   ],
   "source": [
    "int Sum1(int a, int b)\n",
    "{\n",
    "    return a + b;\n",
    "}\n",
    "\n",
    "int Sum2(int a, int b) => a+b;\n",
    "\n",
    "// Позиционные аргументы\n",
    "Console.WriteLine(Sum1(1, 2));\n",
    "Console.WriteLine(Sum2(1, 2));\n",
    "\n",
    "// Именованные аргументы\n",
    "Console.WriteLine(Sum1(1, b:2));\n",
    "Console.WriteLine(Sum1(b:1, a:2));"
   ]
  },
  {
   "cell_type": "code",
   "execution_count": null,
   "metadata": {},
   "outputs": [
    {
     "name": "stdout",
     "output_type": "stream",
     "text": [
      "111\n",
      "301\n"
     ]
    }
   ],
   "source": [
    "int Sum3(int a, int b = 10, int c = 100) => a + b + c;\n",
    "\n",
    "Console.WriteLine(Sum3(1));\n",
    "Console.WriteLine(Sum3(1, b:200));"
   ]
  },
  {
   "cell_type": "code",
   "execution_count": null,
   "metadata": {},
   "outputs": [
    {
     "name": "stdout",
     "output_type": "stream",
     "text": [
      "1 | 2 | 3 | 4\n",
      "1 | 2 | 3 | 4\n"
     ]
    }
   ],
   "source": [
    "void PrintArray1(int[] a)\n",
    "{\n",
    "    Console.WriteLine(String.Join(\" | \", a));\n",
    "}\n",
    "\n",
    "PrintArray1(new int[] {1, 2, 3, 4});\n",
    "PrintArray1([1, 2, 3, 4]);\n",
    "//PrintArray1(1, 2, 3, 4); - Нельзя\n"
   ]
  },
  {
   "cell_type": "code",
   "execution_count": null,
   "metadata": {},
   "outputs": [
    {
     "name": "stdout",
     "output_type": "stream",
     "text": [
      "1 | 2 | 3 | 4\n",
      "1 | 2 | 3 | 4\n",
      "1 | 2 | 3 | 4\n"
     ]
    }
   ],
   "source": [
    "void PrintArray2(params int[] a)\n",
    "{\n",
    "    Console.WriteLine(String.Join(\" | \", a));\n",
    "}\n",
    "\n",
    "PrintArray2(new int[] {1, 2, 3, 4});\n",
    "PrintArray2([1, 2, 3, 4]);\n",
    "PrintArray2(1, 2, 3, 4);"
   ]
  },
  {
   "cell_type": "code",
   "execution_count": null,
   "metadata": {},
   "outputs": [
    {
     "name": "stdout",
     "output_type": "stream",
     "text": [
      "1 | Привет | 3,14 | s\r\n"
     ]
    }
   ],
   "source": [
    "void PrintArray3(params object[] a)\n",
    "{\n",
    "    Console.WriteLine(String.Join(\" | \", a));\n",
    "}\n",
    "\n",
    "PrintArray3(1, \"Привет\", 3.14, 's')"
   ]
  },
  {
   "cell_type": "code",
   "execution_count": null,
   "metadata": {},
   "outputs": [
    {
     "name": "stdout",
     "output_type": "stream",
     "text": [
      "3\n",
      "Привет1111\n",
      "16\n"
     ]
    }
   ],
   "source": [
    "// Перегрузка методов\n",
    "int Add(int a, int b) => a+b;\n",
    "string Add(string a, string b) => a + b;\n",
    "int Add(params int[] numbers)\n",
    "{\n",
    "    int sum = 0;\n",
    "    foreach (var i in numbers)\n",
    "        sum += i;\n",
    "    return sum;\n",
    "}\n",
    "Console.WriteLine(Add(1,2));\n",
    "Console.WriteLine(Add(\"Привет\",\"1111\"));\n",
    "Console.WriteLine(Add(1, 3, 3 ,4 ,5));"
   ]
  },
  {
   "cell_type": "code",
   "execution_count": null,
   "metadata": {},
   "outputs": [
    {
     "name": "stdout",
     "output_type": "stream",
     "text": [
      "Строка\n",
      ">Строка<\n",
      " * Строка * \n"
     ]
    },
    {
     "data": {
      "text/plain": [
       "СТРОКА"
      ]
     },
     "metadata": {},
     "output_type": "display_data"
    }
   ],
   "source": [
    "// Метод расширения\n",
    "\n",
    "static void Print(this string source)\n",
    "{\n",
    "    Console.WriteLine($\">{source}<\");\n",
    "}\n",
    "\n",
    "static void Print(this string source, string border)\n",
    "{\n",
    "    Console.WriteLine($\"{border}{source}{border}\");\n",
    "}\n",
    "\n",
    "static string GetUpperStr(this string source)\n",
    "{\n",
    "    return source.ToUpper();\n",
    "}\n",
    "\n",
    "string st = \"Строка\";\n",
    "Console.WriteLine(st);\n",
    "st.Print();\n",
    "st.Print(\" * \");\n",
    "st.GetUpperStr()"
   ]
  },
  {
   "cell_type": "code",
   "execution_count": null,
   "metadata": {},
   "outputs": [
    {
     "name": "stdout",
     "output_type": "stream",
     "text": [
      "Москва | Воронеж | Тула\r\n"
     ]
    }
   ],
   "source": [
    "static void Print(this string[] source)\n",
    "{\n",
    "    Console.WriteLine(String.Join(\" | \", source));\n",
    "}\n",
    "\n",
    "var cities = new string[] {\"Москва\", \"Воронеж\", \"Тула\"};\n",
    "cities.Print();"
   ]
  }
 ],
 "metadata": {
  "kernelspec": {
   "display_name": ".NET (C#)",
   "language": "C#",
   "name": ".net-csharp"
  },
  "polyglot_notebook": {
   "kernelInfo": {
    "defaultKernelName": "csharp",
    "items": [
     {
      "aliases": [],
      "languageName": "csharp",
      "name": "csharp"
     }
    ]
   }
  }
 },
 "nbformat": 4,
 "nbformat_minor": 2
}
