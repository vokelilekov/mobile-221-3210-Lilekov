{
 "cells": [
  {
   "cell_type": "markdown",
   "metadata": {},
   "source": [
    "# Очередь (Queue)"
   ]
  },
  {
   "cell_type": "code",
   "execution_count": 10,
   "metadata": {
    "dotnet_interactive": {
     "language": "csharp"
    },
    "polyglot_notebook": {
     "kernelName": "csharp"
    }
   },
   "outputs": [],
   "source": [
    "// Обычная очередь (не типизированная)\n",
    "var x = new Queue();\n",
    "x.Enqueue(5);\n",
    "x.Enqueue(\"Hello\");\n",
    "x.Enqueue(3.14);\n",
    "Console.WriteLine($\"Посмотреть -> {x.Peek()}\");\n",
    "\n",
    "while (x.Count > 0)\n",
    "    Console.WriteLine(x.Dequeue());\n",
    "x"
   ]
  },
  {
   "cell_type": "code",
   "execution_count": 14,
   "metadata": {
    "dotnet_interactive": {
     "language": "csharp"
    },
    "polyglot_notebook": {
     "kernelName": "csharp"
    }
   },
   "outputs": [],
   "source": [
    "// Обобщенная очередь (типизированная)\n",
    "var numbers = new Queue<int>();\n",
    "numbers.Enqueue(234);\n",
    "numbers.Enqueue(4);\n",
    "numbers.Enqueue(-3);\n",
    "numbers.Enqueue(0);\n",
    "\n",
    "while (numbers.Count > 0)\n",
    "    Console.WriteLine(numbers.Dequeue());"
   ]
  },
  {
   "cell_type": "markdown",
   "metadata": {},
   "source": [
    "# Стек (Stack)"
   ]
  },
  {
   "cell_type": "code",
   "execution_count": 16,
   "metadata": {
    "dotnet_interactive": {
     "language": "csharp"
    },
    "polyglot_notebook": {
     "kernelName": "csharp"
    }
   },
   "outputs": [],
   "source": [
    "Stack x = new();\n",
    "x.Push(123);\n",
    "x.Push(\"aaa\");\n",
    "x.Push(12.3);\n",
    "Console.WriteLine($\"Посмотреть -> {x.Peek()}\");\n",
    "\n",
    "while (x.Count > 0)\n",
    "    Console.WriteLine(x.Pop());\n",
    "x"
   ]
  },
  {
   "cell_type": "code",
   "execution_count": 17,
   "metadata": {
    "dotnet_interactive": {
     "language": "csharp"
    },
    "polyglot_notebook": {
     "kernelName": "csharp"
    }
   },
   "outputs": [],
   "source": [
    "Stack<int> number = new();\n",
    "// ..."
   ]
  }
 ],
 "metadata": {
  "kernelspec": {
   "display_name": ".NET (C#)",
   "language": "C#",
   "name": ".net-csharp"
  },
  "polyglot_notebook": {
   "kernelInfo": {
    "defaultKernelName": "csharp",
    "items": [
     {
      "aliases": [],
      "languageName": "csharp",
      "name": "csharp"
     }
    ]
   }
  }
 },
 "nbformat": 4,
 "nbformat_minor": 2
}
