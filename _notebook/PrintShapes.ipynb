{
 "cells": [
  {
   "cell_type": "markdown",
   "metadata": {},
   "source": [
    "<h1>Зебра</h1>"
   ]
  },
  {
   "cell_type": "code",
   "execution_count": 50,
   "metadata": {
    "vscode": {
     "languageId": "polyglot-notebook"
    }
   },
   "outputs": [
    {
     "name": "stdout",
     "output_type": "stream",
     "text": [
      "▋▋  ▋▋  ▋▋\n",
      "▋▋  ▋▋  ▋▋\n",
      "▋▋  ▋▋  ▋▋\n",
      "▋▋  ▋▋  ▋▋\n",
      "▋▋  ▋▋  ▋▋\n",
      "▋▋  ▋▋  ▋▋\n",
      "▋▋  ▋▋  ▋▋\n",
      "▋▋  ▋▋  ▋▋\n",
      "▋▋  ▋▋  ▋▋\n",
      "▋▋  ▋▋  ▋▋\n"
     ]
    }
   ],
   "source": [
    "void PrintZebra(\n",
    "    int width,\n",
    "    int height,\n",
    "    char symbol = '▋',\n",
    "    int thickness = 1,\n",
    "    bool isVertical = false)\n",
    "{\n",
    "    for (int i = 0; i < height; i++)\n",
    "    {\n",
    "        for (int j = 0; j < width; j++)\n",
    "        {\n",
    "            bool isZebraLine = isVertical ? (j / thickness) % 2 == 0 : (i / thickness) % 2 == 0;\n",
    "            Console.Write(isZebraLine ? symbol : ' ');\n",
    "        }\n",
    "        Console.WriteLine();\n",
    "    }\n",
    "}\n",
    "\n",
    "PrintZebra(10, 10, '▋', 2, true)"
   ]
  },
  {
   "cell_type": "markdown",
   "metadata": {},
   "source": [
    "<h1>Песочные часы</h1>"
   ]
  },
  {
   "cell_type": "code",
   "execution_count": 52,
   "metadata": {
    "vscode": {
     "languageId": "polyglot-notebook"
    }
   },
   "outputs": [
    {
     "name": "stdout",
     "output_type": "stream",
     "text": [
      "sssssssssssssssssssss\n",
      " sssssssssssssssssss\n",
      "  sssssssssssssssss\n",
      "   sssssssssssssss\n",
      "    sssssssssssss\n",
      "     sssssssssss\n",
      "      sssssssss\n",
      "       sssssss\n",
      "        sssss\n",
      "         sss\n",
      "          s\n",
      "         sss\n",
      "        sssss\n",
      "       sssssss\n",
      "      sssssssss\n",
      "     sssssssssss\n",
      "    sssssssssssss\n",
      "   sssssssssssssss\n",
      "  sssssssssssssssss\n",
      " sssssssssssssssssss\n",
      "sssssssssssssssssssss\n"
     ]
    }
   ],
   "source": [
    "void PrintHourglass(\n",
    "    int height,\n",
    "    char symbol = '*',\n",
    "    bool isFilled = true)\n",
    "{\n",
    "    for (int i = 0; i < height / 2; i++)\n",
    "    {\n",
    "        if (isFilled || i == 0 || (height - 2 * i - 2) < 0)\n",
    "            Console.WriteLine(new string(' ', i) + new string(symbol, height - 2 * i));\n",
    "        else\n",
    "            Console.WriteLine(new string(' ', i) + symbol + new string(' ', height - 2 * i - 2) + symbol);\n",
    "    }\n",
    "\n",
    "    if (height % 2 == 0)\n",
    "        Console.WriteLine(new string(' ', height / 2 - 1) + new string(symbol, 2));\n",
    "    else\n",
    "        Console.WriteLine(new string(' ', height / 2) + symbol);\n",
    "\n",
    "    for (int i = height / 2 - 1; i >= 0; i--)\n",
    "    {\n",
    "        if (isFilled || i == 0 || (height - 2 * i - 2) < 0)\n",
    "            Console.WriteLine(new string(' ', i) + new string(symbol, height - 2 * i));\n",
    "        else\n",
    "            Console.WriteLine(new string(' ', i) + symbol + new string(' ', height - 2 * i - 2) + symbol);\n",
    "    }\n",
    "}\n",
    "PrintHourglass(21, 's', isFilled: true)"
   ]
  },
  {
   "cell_type": "markdown",
   "metadata": {},
   "source": [
    "<h1>Прямоугольник</h1>"
   ]
  },
  {
   "cell_type": "code",
   "execution_count": 55,
   "metadata": {
    "vscode": {
     "languageId": "polyglot-notebook"
    }
   },
   "outputs": [
    {
     "name": "stdout",
     "output_type": "stream",
     "text": [
      "1111111111\n",
      "1         \n",
      "1         \n",
      "1         \n",
      "1         \n",
      "1         \n",
      "1         \n",
      "1         \n",
      "1         \n",
      "1         \n"
     ]
    }
   ],
   "source": [
    "void PrintNestedRectangles(int size, char startChar = '1', int step = 1)\n",
    "{\n",
    "    for (int i = 0; i < size; i++)\n",
    "    {\n",
    "        for (int j = 0; j < size; j++)\n",
    "        {\n",
    "            if (i % step == 0 || j % step == 0)\n",
    "            {\n",
    "                // Определяем символ для границы\n",
    "                Console.Write((char)(startChar + (Math.Min(i, j) / step) % 10));\n",
    "            }\n",
    "            else\n",
    "            {\n",
    "                Console.Write(' ');\n",
    "            }\n",
    "        }\n",
    "        Console.WriteLine();\n",
    "    }\n",
    "}\n",
    "\n",
    "PrintNestedRectangles(10, '1', 20);"
   ]
  }
 ],
 "metadata": {
  "kernelspec": {
   "display_name": ".NET (C#)",
   "language": "C#",
   "name": ".net-csharp"
  },
  "language_info": {
   "name": "python"
  },
  "polyglot_notebook": {
   "kernelInfo": {
    "defaultKernelName": "csharp",
    "items": [
     {
      "aliases": [],
      "name": "csharp"
     }
    ]
   }
  }
 },
 "nbformat": 4,
 "nbformat_minor": 2
}
