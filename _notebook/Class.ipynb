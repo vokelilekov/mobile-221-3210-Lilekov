{
 "cells": [
  {
   "cell_type": "markdown",
   "metadata": {},
   "source": [
    "# Класс (class)"
   ]
  },
  {
   "cell_type": "code",
   "execution_count": null,
   "metadata": {
    "dotnet_interactive": {
     "language": "csharp"
    },
    "polyglot_notebook": {
     "kernelName": "csharp"
    }
   },
   "outputs": [],
   "source": [
    "class Person \n",
    "{\n",
    "    // Поля\n",
    "    public string name;\n",
    "    public int age = 18; // По умолчанию\n",
    "    // Методы\n",
    "    public string Say() => \"Привет\";\n",
    "}\n",
    "\n",
    "var p = new Person();\n",
    "p.name = \"Вася\";\n",
    "Console.WriteLine($\"{p.name} ({p.age})\");\n",
    "Console.WriteLine(p.Say());\n",
    "\n",
    "//через инициализатор объекта\n",
    "var p2 = new Person { name = \"Петя\", age = 17};\n",
    "Console.WriteLine($\"{p2.name} ({p2.age})\");"
   ]
  },
  {
   "cell_type": "code",
   "execution_count": null,
   "metadata": {
    "dotnet_interactive": {
     "language": "csharp"
    },
    "polyglot_notebook": {
     "kernelName": "csharp"
    }
   },
   "outputs": [],
   "source": [
    "// Методы Геттеры и Сеттеры\n",
    "class Person \n",
    "{\n",
    "    // Поля\n",
    "    private string name;\n",
    "    private int age;\n",
    "    //Методы Геттеры и Сеттеры\n",
    "    public string getName() => name;\n",
    "    public void setName(string value) => name = value;\n",
    "    public int getAge() => age;\n",
    "    public void setAge(int value) => age = value;\n",
    "\n",
    "}\n",
    "\n",
    "var p = new Person();\n",
    "p.setAge(20);"
   ]
  },
  {
   "cell_type": "code",
   "execution_count": null,
   "metadata": {
    "dotnet_interactive": {
     "language": "csharp"
    },
    "polyglot_notebook": {
     "kernelName": "csharp"
    }
   },
   "outputs": [],
   "source": [
    "// Свойства\n",
    "class Person \n",
    "{\n",
    "    // Поля\n",
    "    private string name;\n",
    "    private int age;\n",
    "    // Свойства\n",
    "    public string Name\n",
    "    {\n",
    "        get\n",
    "        {\n",
    "            return name;\n",
    "        }\n",
    "        set\n",
    "        {\n",
    "            name = value;\n",
    "        }\n",
    "    }\n",
    "    public int Age { get => age; set => age = value; }\n",
    "}\n",
    "\n",
    "var p = new Person();\n",
    "p.Name = \"Петя\";\n",
    "p.Age = 18;\n",
    "Console.WriteLine($\"{p.Name} ({p.Age})\");"
   ]
  },
  {
   "cell_type": "code",
   "execution_count": null,
   "metadata": {
    "dotnet_interactive": {
     "language": "csharp"
    },
    "polyglot_notebook": {
     "kernelName": "csharp"
    }
   },
   "outputs": [],
   "source": [
    "// Автоматические свойства\n",
    "class Person\n",
    "{\n",
    "    // Поля\n",
    "    // Свойства\n",
    "    public string Name { get; set; }\n",
    "    public int Age { get; private set; } = 15;\n",
    "}\n",
    "\n",
    "var p = new Person();\n",
    "p.Name = \"Петя\";\n",
    "// p.Age = 18;\n",
    "Console.WriteLine($\"{p.Name} ({p.Age})\");"
   ]
  },
  {
   "cell_type": "code",
   "execution_count": null,
   "metadata": {
    "dotnet_interactive": {
     "language": "csharp"
    },
    "polyglot_notebook": {
     "kernelName": "csharp"
    }
   },
   "outputs": [],
   "source": [
    "// Конструктор\n",
    "class Person\n",
    "{\n",
    "    // Свойства\n",
    "    public string Name { get; set; }\n",
    "    public int Age { get; set; }\n",
    "    // Конструкторы\n",
    "     public Person() : this(\"Без имени\", 18) { }\n",
    "    public Person(string name) : this(name, 18) { }\n",
    "    // {\n",
    "    //     Name = name;\n",
    "    //     Age = 18;\n",
    "    // }\n",
    "    public Person(string name, int age)\n",
    "    {\n",
    "        Name = name;\n",
    "        Age = age;\n",
    "    }\n",
    "}\n",
    "\n",
    "var p = new Person(\"Петя\", 17);\n",
    "Console.WriteLine($\"{p.Name} ({p.Age})\");\n",
    "\n",
    "var p2 = new Person();\n",
    "Console.WriteLine($\"{p2.Name} ({p2.Age})\");"
   ]
  },
  {
   "cell_type": "code",
   "execution_count": null,
   "metadata": {
    "dotnet_interactive": {
     "language": "csharp"
    },
    "polyglot_notebook": {
     "kernelName": "csharp"
    }
   },
   "outputs": [],
   "source": [
    "// Первичный конструктор (Начиная с С# 12.0)\n",
    "class Person(string name, int age)\n",
    "{\n",
    "    // Свойства\n",
    "    public string Name { get; set; } = name;\n",
    "    public int Age { get; set; } = age;\n",
    "}\n",
    "\n",
    "var p = new Person(\"Петя\", 17);\n",
    "Console.WriteLine($\"{p.Name} ({p.Age})\");\n",
    "Console.WriteLine(p);"
   ]
  },
  {
   "cell_type": "code",
   "execution_count": null,
   "metadata": {
    "dotnet_interactive": {
     "language": "csharp"
    },
    "polyglot_notebook": {
     "kernelName": "csharp"
    }
   },
   "outputs": [],
   "source": [
    "// метод ToString\n",
    "class Person(string name, int age)\n",
    "{\n",
    "    // Свойства\n",
    "    public string Name { get; set; } = name;\n",
    "    public int Age { get; set; } = age;\n",
    "    // Методы\n",
    "    public override string ToString() => $\"Person: {Name} {(Age)}\";\n",
    "}\n",
    "\n",
    "var p = new Person(\"Петя\", 17);\n",
    "Console.WriteLine($\"{p.Name} ({p.Age})\");\n",
    "Console.WriteLine(p);"
   ]
  },
  {
   "cell_type": "code",
   "execution_count": null,
   "metadata": {
    "dotnet_interactive": {
     "language": "csharp"
    },
    "polyglot_notebook": {
     "kernelName": "csharp"
    }
   },
   "outputs": [],
   "source": [
    "//  init - Можно (только) установить\n",
    "// либо в объявлении, \n",
    "// либо в конструкторе,\n",
    "// либо в инициализаторе. \n",
    "\n",
    "class Person\n",
    "{\n",
    "    public string Name { get; init; }\n",
    "    public int Age { get; set; }\n",
    "}\n",
    "\n",
    "var p = new Person();\n",
    "// p.Name = \"Юра\";\n"
   ]
  },
  {
   "cell_type": "code",
   "execution_count": null,
   "metadata": {
    "dotnet_interactive": {
     "language": "csharp"
    },
    "polyglot_notebook": {
     "kernelName": "csharp"
    }
   },
   "outputs": [],
   "source": [
    "// required - Нужно (обязательно) установить:\n",
    "// либо в конструкторе,\n",
    "// либо в инициализаторе. \n",
    "\n",
    "class Person\n",
    "{\n",
    "    public required string Name { get; set; }\n",
    "    public required int Age { get; set; }\n",
    "}\n",
    "\n",
    "// var p = new Person() // нельзя\n",
    "var p2 = new Person() {Name=\"Петя\", Age=17};"
   ]
  },
  {
   "cell_type": "code",
   "execution_count": null,
   "metadata": {
    "dotnet_interactive": {
     "language": "csharp"
    },
    "polyglot_notebook": {
     "kernelName": "csharp"
    }
   },
   "outputs": [],
   "source": [
    "//  Деконструктор (не путать с деструктором)\n",
    "\n",
    "class Person(string name, int age)\n",
    "{\n",
    "    public string Name { get; set; } = name;\n",
    "    public int Age { get; set; } = age;\n",
    "    //\n",
    "    public void Deconstruct(out string name, out int age)\n",
    "    {\n",
    "        name = Name;\n",
    "        age = Age;\n",
    "    }\n",
    "}\n",
    "\n",
    "var p = new Person(\"Петя\", 18);\n",
    "(string name, int age) = p;\n",
    "Console.WriteLine(name);\n",
    "Console.WriteLine(age);\n",
    "\n",
    "(_, int age2) = p;\n",
    "Console.WriteLine(age2);\n"
   ]
  },
  {
   "cell_type": "code",
   "execution_count": null,
   "metadata": {
    "dotnet_interactive": {
     "language": "csharp"
    },
    "polyglot_notebook": {
     "kernelName": "csharp"
    }
   },
   "outputs": [],
   "source": [
    "// Наследование\n",
    "\n",
    "class Person\n",
    "{\n",
    "    public string Name { get; set; }\n",
    "}\n",
    "\n",
    "class Employee : Person\n",
    "{\n",
    "     public string Company { get; set; }\n",
    "}\n",
    "\n",
    "var e = new Employee() {Name=\"Ваня\", Company=\"Яндекс\"};\n",
    "e.Company"
   ]
  },
  {
   "cell_type": "code",
   "execution_count": null,
   "metadata": {
    "dotnet_interactive": {
     "language": "csharp"
    },
    "polyglot_notebook": {
     "kernelName": "csharp"
    }
   },
   "outputs": [],
   "source": [
    "// Наследование + обычный конструктор\n",
    "\n",
    "class Person\n",
    "{\n",
    "    public string Name { get; set; }\n",
    "    public Person(string name)\n",
    "    {\n",
    "        Name = name;\n",
    "    }\n",
    "}\n",
    "\n",
    "class Employee : Person\n",
    "{\n",
    "     public string Company { get; set; }\n",
    "     public Employee(string company, string name) : base(name)\n",
    "     {\n",
    "        Company = company;\n",
    "     }\n",
    "}\n",
    "\n",
    "var e = new Employee(company:\"Яндекс\", name:\"Ваня\");\n",
    "e.Company"
   ]
  },
  {
   "cell_type": "code",
   "execution_count": null,
   "metadata": {
    "dotnet_interactive": {
     "language": "csharp"
    },
    "polyglot_notebook": {
     "kernelName": "csharp"
    }
   },
   "outputs": [],
   "source": [
    "// Наследование + первичный конструктор\n",
    "\n",
    "class Person(string name)\n",
    "{\n",
    "    public string Name { get; set; } = name;\n",
    "}\n",
    "\n",
    "class Employee(string company, string name) : Person(name)\n",
    "{\n",
    "     public string Company { get; set; } = company;\n",
    "}\n",
    "\n",
    "var e = new Employee(company:\"Яндекс\", name:\"Ваня\");\n",
    "e.Company"
   ]
  },
  {
   "cell_type": "code",
   "execution_count": null,
   "metadata": {
    "dotnet_interactive": {
     "language": "csharp"
    },
    "polyglot_notebook": {
     "kernelName": "csharp"
    }
   },
   "outputs": [],
   "source": [
    "// Переопределение методов\n",
    "\n",
    "class Person(string name)\n",
    "{\n",
    "    public string Name { get; set; } = name;\n",
    "    public virtual void Print() => Console.WriteLine(Name);\n",
    "}\n",
    "\n",
    "class Employee(string company, string name) : Person(name)\n",
    "{\n",
    "     public string Company { get; set; } = company;\n",
    "     public override void Print() => Console.WriteLine($\"{Name} работает в {Company}\");\n",
    "}\n",
    "\n",
    "var e = new Employee(company:\"Яндекс\", name:\"Ваня\");\n",
    "e.Print()"
   ]
  },
  {
   "cell_type": "code",
   "execution_count": null,
   "metadata": {
    "dotnet_interactive": {
     "language": "csharp"
    },
    "polyglot_notebook": {
     "kernelName": "csharp"
    }
   },
   "outputs": [],
   "source": [
    "// Статические поля/методы/свойства\n",
    "// + константы\n",
    "\n",
    "class Person\n",
    "{\n",
    "    public static int minAge = 18;\n",
    "    public const int defaultAge = 19;\n",
    "    public int Age { get; set; }\n",
    "    public static void PrintMinAge() => Console.WriteLine(minAge);\n",
    "}\n",
    "\n",
    "Console.WriteLine(Person.minAge);\n",
    "Person.minAge = 25;\n",
    "Console.WriteLine(Person.minAge);\n",
    "Console.WriteLine(Person.defaultAge);\n",
    "Person.PrintMinAge();"
   ]
  },
  {
   "cell_type": "code",
   "execution_count": null,
   "metadata": {
    "dotnet_interactive": {
     "language": "csharp"
    },
    "polyglot_notebook": {
     "kernelName": "csharp"
    }
   },
   "outputs": [],
   "source": [
    "// Поля для чтения\n",
    "\n",
    "class Person\n",
    "{\n",
    "    public readonly string name = \"Петя\";\n",
    "    public Person()\n",
    "    {\n",
    "        name = \"Ваня\";\n",
    "    }\n",
    "    public void set_name(string value)\n",
    "    {\n",
    "        //name = value;// нельзя\n",
    "    }\n",
    "}\n",
    "\n",
    "var p = new Person();\n",
    "Console.WriteLine(p.name);\n",
    "//p.name = \"aaa\"; // нельзя"
   ]
  }
 ],
 "metadata": {
  "kernelspec": {
   "display_name": ".NET (C#)",
   "language": "C#",
   "name": ".net-csharp"
  },
  "polyglot_notebook": {
   "kernelInfo": {
    "defaultKernelName": "csharp",
    "items": [
     {
      "aliases": [],
      "name": "csharp"
     }
    ]
   }
  }
 },
 "nbformat": 4,
 "nbformat_minor": 2
}
