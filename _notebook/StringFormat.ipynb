{
 "cells": [
  {
   "cell_type": "markdown",
   "metadata": {},
   "source": [
    "# Форматирование строк"
   ]
  },
  {
   "cell_type": "code",
   "execution_count": 4,
   "metadata": {},
   "outputs": [
    {
     "name": "stdout",
     "output_type": "stream",
     "text": [
      "Петя19\n",
      "Петя19\n",
      "Петя19\n",
      "Петя19\n",
      "Петя19\n"
     ]
    }
   ],
   "source": [
    "var name = \"Петя\";\n",
    "var age = 19; \n",
    "Console.WriteLine(name + age); // Конкатенация строк\n",
    "Console.WriteLine(String.Concat(name, age));\n",
    "Console.WriteLine(String.Join(\"\", name, age));\n",
    "Console.WriteLine(String.Format( \"{0}{1}\", name, age));\n",
    "Console.WriteLine($\"{name}{age}\"); // Интерполированная строка"
   ]
  },
  {
   "cell_type": "code",
   "execution_count": 18,
   "metadata": {},
   "outputs": [
    {
     "name": "stdout",
     "output_type": "stream",
     "text": [
      "0.16666666666666666\n",
      "0.16666666666666666\n",
      "0.167\n",
      "0.166667\n",
      "16.667%\n",
      "17%\n",
      "1.666667E-001\n",
      "1.67E-001\n"
     ]
    },
    {
     "data": {
      "text/html": [
       "<div class=\"dni-plaintext\"><pre>0.16666666666666666</pre></div><style>\r\n",
       ".dni-code-hint {\r\n",
       "    font-style: italic;\r\n",
       "    overflow: hidden;\r\n",
       "    white-space: nowrap;\r\n",
       "}\r\n",
       ".dni-treeview {\r\n",
       "    white-space: nowrap;\r\n",
       "}\r\n",
       ".dni-treeview td {\r\n",
       "    vertical-align: top;\r\n",
       "    text-align: start;\r\n",
       "}\r\n",
       "details.dni-treeview {\r\n",
       "    padding-left: 1em;\r\n",
       "}\r\n",
       "table td {\r\n",
       "    text-align: start;\r\n",
       "}\r\n",
       "table tr { \r\n",
       "    vertical-align: top; \r\n",
       "    margin: 0em 0px;\r\n",
       "}\r\n",
       "table tr td pre \r\n",
       "{ \r\n",
       "    vertical-align: top !important; \r\n",
       "    margin: 0em 0px !important;\r\n",
       "} \r\n",
       "table th {\r\n",
       "    text-align: start;\r\n",
       "}\r\n",
       "</style>"
      ]
     },
     "metadata": {},
     "output_type": "display_data"
    }
   ],
   "source": [
    "var v = 1 / 6.0;\n",
    "Console.WriteLine(v);\n",
    "Console.WriteLine(v.ToString());\n",
    "// Формат данных и точность после запятой\n",
    "// F  - число с дробной частью\n",
    "Console.WriteLine(v.ToString(\"F\"));\n",
    "Console.WriteLine(v.ToString(\"F6\"));\n",
    "// P - Число в процентах\n",
    "Console.WriteLine(v.ToString(\"P\"));\n",
    "Console.WriteLine(v.ToString(\"P0\"));\n",
    "// Экспоненциальное представление числа\n",
    "Console.WriteLine(v.ToString(\"E\"));\n",
    "Console.WriteLine(v.ToString(\"E2\"));\n",
    "v"
   ]
  },
  {
   "cell_type": "code",
   "execution_count": 20,
   "metadata": {},
   "outputs": [
    {
     "name": "stdout",
     "output_type": "stream",
     "text": [
      "0.16666666666666666\n",
      "0.167\n",
      "0.17\n",
      "17%\n"
     ]
    }
   ],
   "source": [
    "// Short form\n",
    "Console.WriteLine($\"{v}\");\n",
    "Console.WriteLine($\"{v:F}\");\n",
    "Console.WriteLine($\"{v:F2}\");\n",
    "Console.WriteLine($\"{v:P0}\");"
   ]
  },
  {
   "cell_type": "code",
   "execution_count": 23,
   "metadata": {},
   "outputs": [
    {
     "name": "stdout",
     "output_type": "stream",
     "text": [
      "1666666.6666666667\n",
      "1,666,666.667\n",
      "¤1,666,666.67\n"
     ]
    }
   ],
   "source": [
    "var v = 1 / 0.000_000_6;\n",
    "Console.WriteLine($\"{v}\");\n",
    "Console.WriteLine($\"{v:N}\"); // N -  Число с разделителем тысяч\n",
    "// Число с валютой\n",
    "Console.WriteLine($\"{v:C}\");"
   ]
  },
  {
   "cell_type": "code",
   "execution_count": 33,
   "metadata": {},
   "outputs": [
    {
     "name": "stdout",
     "output_type": "stream",
     "text": [
      "¤1,666,666.67\n",
      "1 666 666,67 ₽\n",
      "1 666 666,67 KZT\n",
      "$1,666,666.67\n"
     ]
    }
   ],
   "source": [
    "using System.Globalization;\n",
    "\n",
    "Console.WriteLine(v.ToString(\"C\"));\n",
    "Console.WriteLine(v.ToString(\"C\", new CultureInfo(\"ru-RU\")));\n",
    "Console.WriteLine(v.ToString(\"C\", new CultureInfo(\"kz-KZ\")));\n",
    "Console.WriteLine(v.ToString(\"C\", new CultureInfo(\"en-US\")));"
   ]
  },
  {
   "cell_type": "code",
   "execution_count": 44,
   "metadata": {},
   "outputs": [
    {
     "name": "stdout",
     "output_type": "stream",
     "text": [
      "11111111\n",
      "255\n",
      "FF\n"
     ]
    }
   ],
   "source": [
    "// Форматы данных, систем счисления\n",
    "var n = 255;\n",
    "Console.WriteLine($\"{n:B}\"); // Бинарное\n",
    "Console.WriteLine($\"{n:D}\"); // Десятичное\n",
    "Console.WriteLine($\"{n:X}\"); // Шестнадцатиричное"
   ]
  },
  {
   "cell_type": "code",
   "execution_count": 52,
   "metadata": {},
   "outputs": [
    {
     "name": "stdout",
     "output_type": "stream",
     "text": [
      "255\n",
      "255\n",
      "255\n",
      "255\n"
     ]
    }
   ],
   "source": [
    "Console.WriteLine(Convert.ToInt32(\"11111111\", 2));\n",
    "Console.WriteLine(Convert.ToInt32(\"377\", 8));\n",
    "Console.WriteLine(Convert.ToInt32(\"FF\", 16));\n",
    "Console.WriteLine(Convert.ToInt32(\"255\", 10));"
   ]
  },
  {
   "cell_type": "code",
   "execution_count": 55,
   "metadata": {},
   "outputs": [
    {
     "data": {
      "text/html": [
       "<div class=\"dni-plaintext\"><pre>255</pre></div><style>\r\n",
       ".dni-code-hint {\r\n",
       "    font-style: italic;\r\n",
       "    overflow: hidden;\r\n",
       "    white-space: nowrap;\r\n",
       "}\r\n",
       ".dni-treeview {\r\n",
       "    white-space: nowrap;\r\n",
       "}\r\n",
       ".dni-treeview td {\r\n",
       "    vertical-align: top;\r\n",
       "    text-align: start;\r\n",
       "}\r\n",
       "details.dni-treeview {\r\n",
       "    padding-left: 1em;\r\n",
       "}\r\n",
       "table td {\r\n",
       "    text-align: start;\r\n",
       "}\r\n",
       "table tr { \r\n",
       "    vertical-align: top; \r\n",
       "    margin: 0em 0px;\r\n",
       "}\r\n",
       "table tr td pre \r\n",
       "{ \r\n",
       "    vertical-align: top !important; \r\n",
       "    margin: 0em 0px !important;\r\n",
       "} \r\n",
       "table th {\r\n",
       "    text-align: start;\r\n",
       "}\r\n",
       "</style>"
      ]
     },
     "metadata": {},
     "output_type": "display_data"
    }
   ],
   "source": [
    "var n  = 0b11111111;\n",
    "n"
   ]
  },
  {
   "cell_type": "code",
   "execution_count": 56,
   "metadata": {},
   "outputs": [
    {
     "data": {
      "text/html": [
       "<div class=\"dni-plaintext\"><pre>255</pre></div><style>\r\n",
       ".dni-code-hint {\r\n",
       "    font-style: italic;\r\n",
       "    overflow: hidden;\r\n",
       "    white-space: nowrap;\r\n",
       "}\r\n",
       ".dni-treeview {\r\n",
       "    white-space: nowrap;\r\n",
       "}\r\n",
       ".dni-treeview td {\r\n",
       "    vertical-align: top;\r\n",
       "    text-align: start;\r\n",
       "}\r\n",
       "details.dni-treeview {\r\n",
       "    padding-left: 1em;\r\n",
       "}\r\n",
       "table td {\r\n",
       "    text-align: start;\r\n",
       "}\r\n",
       "table tr { \r\n",
       "    vertical-align: top; \r\n",
       "    margin: 0em 0px;\r\n",
       "}\r\n",
       "table tr td pre \r\n",
       "{ \r\n",
       "    vertical-align: top !important; \r\n",
       "    margin: 0em 0px !important;\r\n",
       "} \r\n",
       "table th {\r\n",
       "    text-align: start;\r\n",
       "}\r\n",
       "</style>"
      ]
     },
     "metadata": {},
     "output_type": "display_data"
    }
   ],
   "source": [
    "var n  = 0xFF;\n",
    "n"
   ]
  },
  {
   "cell_type": "code",
   "execution_count": 68,
   "metadata": {},
   "outputs": [
    {
     "name": "stdout",
     "output_type": "stream",
     "text": [
      "Hi\n",
      "   Hi\n",
      "Hi   \n",
      "                                                Hi\n"
     ]
    }
   ],
   "source": [
    "// Выравниваниие \n",
    "var v = \"Hi\";\n",
    "Console.WriteLine($\"{v}\");\n",
    "Console.WriteLine($\"{v,5}\");\n",
    "Console.WriteLine($\"{v,-5}\");\n",
    "Console.WriteLine($\"{v,50}\");"
   ]
  },
  {
   "cell_type": "code",
   "execution_count": 67,
   "metadata": {},
   "outputs": [
    {
     "name": "stdout",
     "output_type": "stream",
     "text": [
      "255\n",
      "000255\n",
      "0011111111\n",
      "00FF\n",
      "    00FF\n"
     ]
    }
   ],
   "source": [
    "// Дозаполнить результат нулями\n",
    "var n = 255;\n",
    "Console.WriteLine($\"{n}\");\n",
    "Console.WriteLine($\"{n:D6}\");\n",
    "Console.WriteLine($\"{n:B10}\");\n",
    "Console.WriteLine($\"{n:X4}\");\n",
    "Console.WriteLine($\"{n,8:X4}\");"
   ]
  },
  {
   "cell_type": "code",
   "execution_count": 70,
   "metadata": {},
   "outputs": [
    {
     "name": "stdout",
     "output_type": "stream",
     "text": [
      "123456789\n",
      "123456 7 89\n"
     ]
    }
   ],
   "source": [
    "// Маска числа\n",
    "var n = 123456789;\n",
    "Console.WriteLine($\"{n}\");\n",
    "Console.WriteLine($\"{n:# # ##}\");\n"
   ]
  },
  {
   "cell_type": "code",
   "execution_count": 76,
   "metadata": {},
   "outputs": [
    {
     "name": "stdout",
     "output_type": "stream",
     "text": [
      "9091715805\n",
      "8-909-171-58-05\n",
      "9091715 8 05\n"
     ]
    }
   ],
   "source": [
    "var n = 12;\n",
    "Console.WriteLine($\"{n}\");\n",
    "Console.WriteLine($\"{n:## # ##}\");\n",
    "Console.WriteLine($\"{n:00 0 00}\");"
   ]
  },
  {
   "cell_type": "code",
   "execution_count": 81,
   "metadata": {},
   "outputs": [
    {
     "name": "stdout",
     "output_type": "stream",
     "text": [
      "+7(909)-171-58-05\r\n"
     ]
    }
   ],
   "source": [
    "var n = 909_171_58_05;\n",
    "Console.WriteLine($\"{n:+7(###)-###-##-##}\");"
   ]
  }
 ],
 "metadata": {
  "kernelspec": {
   "display_name": ".NET (C#)",
   "language": "C#",
   "name": ".net-csharp"
  },
  "polyglot_notebook": {
   "kernelInfo": {
    "defaultKernelName": "csharp",
    "items": [
     {
      "aliases": [],
      "languageName": "csharp",
      "name": "csharp"
     }
    ]
   }
  }
 },
 "nbformat": 4,
 "nbformat_minor": 2
}
