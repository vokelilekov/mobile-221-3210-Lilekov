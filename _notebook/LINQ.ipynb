{
 "cells": [
  {
   "cell_type": "markdown",
   "metadata": {},
   "source": [
    "# LINQ\n"
   ]
  },
  {
   "cell_type": "code",
   "execution_count": null,
   "metadata": {
    "dotnet_interactive": {
     "language": "csharp"
    },
    "polyglot_notebook": {
     "kernelName": "csharp"
    }
   },
   "outputs": [],
   "source": [
    "//var numbers = new int[] {0,1,2,3,4,5,6,7,8,9};\n",
    "var numbers = Enumerable.Range(0, 10).ToArray();\n",
    "Console.WriteLine(String.Join(\" \", numbers));\n",
    "\n",
    "var query_numbers = \n",
    "    from v in numbers\n",
    "    where v > 4 && v < 8\n",
    "    orderby v descending\n",
    "    select v;\n",
    "\n",
    "Console.WriteLine(String.Join(\" \", query_numbers));\n",
    "Console.WriteLine(query_numbers.Sum());\n",
    "Console.WriteLine(query_numbers.Count());"
   ]
  },
  {
   "cell_type": "code",
   "execution_count": null,
   "metadata": {
    "dotnet_interactive": {
     "language": "csharp"
    },
    "polyglot_notebook": {
     "kernelName": "csharp"
    }
   },
   "outputs": [],
   "source": [
    "\n",
    "var query_numbers = \n",
    "    from v in numbers\n",
    "    where (v % 2) == 0\n",
    "    select $\"({v * 2})\";\n",
    "Console.WriteLine(String.Join(\" \", query_numbers));"
   ]
  },
  {
   "cell_type": "code",
   "execution_count": null,
   "metadata": {
    "dotnet_interactive": {
     "language": "csharp"
    },
    "polyglot_notebook": {
     "kernelName": "csharp"
    }
   },
   "outputs": [],
   "source": [
    "var cities = new string[] {\"Воронеж\", \"сочи\", \"Орёл\", \"Самара\", \"Тула\", \"Смоленск\", \"Суммы\"};\n",
    "var q1 = \n",
    "    from city in cities\n",
    "    where city.ToUpper().StartsWith(\"С\")\n",
    "    orderby city\n",
    "    select city;\n",
    "Console.WriteLine(String.Join(\" | \", q1))"
   ]
  },
  {
   "cell_type": "code",
   "execution_count": null,
   "metadata": {
    "dotnet_interactive": {
     "language": "csharp"
    },
    "polyglot_notebook": {
     "kernelName": "csharp"
    }
   },
   "outputs": [],
   "source": [
    "var r1 = cities.Where(v => v.StartsWith(\"С\")).OrderBy(v => v).ToArray();\n",
    "r1"
   ]
  }
 ],
 "metadata": {
  "kernelspec": {
   "display_name": ".NET (C#)",
   "language": "C#",
   "name": ".net-csharp"
  },
  "polyglot_notebook": {
   "kernelInfo": {
    "defaultKernelName": "csharp",
    "items": [
     {
      "aliases": [],
      "languageName": "csharp",
      "name": "csharp"
     }
    ]
   }
  }
 },
 "nbformat": 4,
 "nbformat_minor": 2
}
