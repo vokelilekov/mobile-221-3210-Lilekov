{
 "cells": [
  {
   "cell_type": "markdown",
   "metadata": {},
   "source": [
    "# LINQ\n"
   ]
  },
  {
   "cell_type": "code",
   "execution_count": null,
   "metadata": {},
   "outputs": [
    {
     "name": "stdout",
     "output_type": "stream",
     "text": [
      "0 1 2 3 4 5 6 7 8 9\n",
      "7 6 5\n",
      "18\n",
      "3\n"
     ]
    }
   ],
   "source": [
    "//var numbers = new int[] {0,1,2,3,4,5,6,7,8,9};\n",
    "var numbers = Enumerable.Range(0, 10).ToArray();\n",
    "Console.WriteLine(String.Join(\" \", numbers));\n",
    "\n",
    "var query_numbers = \n",
    "    from v in numbers\n",
    "    where v > 4 && v < 8\n",
    "    orderby v descending\n",
    "    select v;\n",
    "\n",
    "Console.WriteLine(String.Join(\" \", query_numbers));\n",
    "Console.WriteLine(query_numbers.Sum());\n",
    "Console.WriteLine(query_numbers.Count());"
   ]
  },
  {
   "cell_type": "code",
   "execution_count": null,
   "metadata": {},
   "outputs": [
    {
     "name": "stdout",
     "output_type": "stream",
     "text": [
      "(0) (4) (8) (12) (16)\r\n"
     ]
    }
   ],
   "source": [
    "\n",
    "var query_numbers = \n",
    "    from v in numbers\n",
    "    where (v % 2) == 0\n",
    "    select $\"({v * 2})\";\n",
    "Console.WriteLine(String.Join(\" \", query_numbers));"
   ]
  },
  {
   "cell_type": "code",
   "execution_count": null,
   "metadata": {},
   "outputs": [
    {
     "name": "stdout",
     "output_type": "stream",
     "text": [
      "Самара | Смоленск | сочи | Суммы\r\n"
     ]
    }
   ],
   "source": [
    "var cities = new string[] {\"Воронеж\", \"сочи\", \"Орёл\", \"Самара\", \"Тула\", \"Смоленск\", \"Суммы\"};\n",
    "var q1 = \n",
    "    from city in cities\n",
    "    where city.ToUpper().StartsWith(\"С\")\n",
    "    orderby city\n",
    "    select city;\n",
    "Console.WriteLine(String.Join(\" | \", q1))"
   ]
  },
  {
   "cell_type": "code",
   "execution_count": null,
   "metadata": {},
   "outputs": [
    {
     "data": {
      "text/html": [
       "<div class=\"dni-plaintext\"><pre>[ Самара, Смоленск, Суммы ]</pre></div><style>\r\n",
       ".dni-code-hint {\r\n",
       "    font-style: italic;\r\n",
       "    overflow: hidden;\r\n",
       "    white-space: nowrap;\r\n",
       "}\r\n",
       ".dni-treeview {\r\n",
       "    white-space: nowrap;\r\n",
       "}\r\n",
       ".dni-treeview td {\r\n",
       "    vertical-align: top;\r\n",
       "    text-align: start;\r\n",
       "}\r\n",
       "details.dni-treeview {\r\n",
       "    padding-left: 1em;\r\n",
       "}\r\n",
       "table td {\r\n",
       "    text-align: start;\r\n",
       "}\r\n",
       "table tr { \r\n",
       "    vertical-align: top; \r\n",
       "    margin: 0em 0px;\r\n",
       "}\r\n",
       "table tr td pre \r\n",
       "{ \r\n",
       "    vertical-align: top !important; \r\n",
       "    margin: 0em 0px !important;\r\n",
       "} \r\n",
       "table th {\r\n",
       "    text-align: start;\r\n",
       "}\r\n",
       "</style>"
      ]
     },
     "metadata": {},
     "output_type": "display_data"
    }
   ],
   "source": [
    "var r1 = cities.Where(v => v.StartsWith(\"С\")).OrderBy(v => v).ToArray();\n",
    "r1"
   ]
  }
 ],
 "metadata": {
  "kernelspec": {
   "display_name": ".NET (C#)",
   "language": "C#",
   "name": ".net-csharp"
  },
  "polyglot_notebook": {
   "kernelInfo": {
    "defaultKernelName": "csharp",
    "items": [
     {
      "aliases": [],
      "languageName": "csharp",
      "name": "csharp"
     }
    ]
   }
  }
 },
 "nbformat": 4,
 "nbformat_minor": 2
}
