{
 "cells": [
  {
   "cell_type": "code",
   "execution_count": 1,
   "metadata": {
    "dotnet_interactive": {
     "language": "csharp"
    },
    "polyglot_notebook": {
     "kernelName": "csharp"
    },
    "vscode": {
     "languageId": "polyglot-notebook"
    }
   },
   "outputs": [
    {
     "name": "stdout",
     "output_type": "stream",
     "text": [
      "********************\n",
      "*                  *\n",
      "*                  *\n",
      "*                  *\n",
      "*                  *\n",
      "********************\n"
     ]
    }
   ],
   "source": [
    "int width = 20;\n",
    "int height = 6;\n",
    "/// <summary>\n",
    "/// Символ заполнения\n",
    "/// </summary>\n",
    "char symbol = '*';\n",
    "/// <summary>\n",
    "/// Символ заполнения\n",
    "/// </summary>\n",
    "bool isFill = ! true;\n",
    "char symbolClear = ' ';\n",
    "\n",
    "//3\n",
    "for (int r = 0; r < height; r++)\n",
    "{\n",
    "    if (isFill || r == 0 || r == height - 1)\n",
    "        Console.WriteLine(new string(symbol, width));\n",
    "    else    \n",
    "        Console.WriteLine(symbol + new string(symbolClear, width-2) + symbol);\n",
    "}\n",
    "\n",
    "//1\n",
    "// for (int r = 0; r < height; r++)\n",
    "// {\n",
    "//     for (int c = 0; c < width; c++)\n",
    "//     {\n",
    "//         if (isFill)\n",
    "//         {\n",
    "//             Console.Write(symbol);\n",
    "//         }\n",
    "//         else\n",
    "//         {\n",
    "//             if (r == 0 || r == height - 1 || c == 0 || c = width - 1)\n",
    "//             {\n",
    "//                 Console.Write(symbol);\n",
    "//             }\n",
    "//             else\n",
    "//             {\n",
    "//                 Console.Write(' ');\n",
    "//             }\n",
    "//         }\n",
    "//     }\n",
    "//     Console.WriteLine();\n",
    "// }\n",
    "\n",
    "//2\n",
    "// for (int r = 0; r < height; r++)\n",
    "// {\n",
    "//     for (int c = 0; c < width; c++)\n",
    "//     {\n",
    "//         bool isSymb = (isFill || r == 0 || r == height - 1 || c == 0 || c == width  - 1);\n",
    "//         Console.Write(isSymb ? symbol : symbolClear);\n",
    "//     }\n",
    "//     Console.WriteLine();\n",
    "// }\n",
    "\n"
   ]
  },
  {
   "cell_type": "code",
   "execution_count": 2,
   "metadata": {
    "dotnet_interactive": {
     "language": "csharp"
    },
    "polyglot_notebook": {
     "kernelName": "csharp"
    },
    "vscode": {
     "languageId": "polyglot-notebook"
    }
   },
   "outputs": [
    {
     "name": "stdout",
     "output_type": "stream",
     "text": [
      "xxxxxxxxxxxxxxxxxxxx\n",
      "x                  x\n",
      "x                  x\n",
      "x                  x\n",
      "x                  x\n",
      "x                  x\n",
      "x                  x\n",
      "x                  x\n",
      "x                  x\n",
      "xxxxxxxxxxxxxxxxxxxx\n"
     ]
    }
   ],
   "source": [
    "/// <summary>\n",
    "/// Нарисовать прямоугольник в консоли.\n",
    "/// </summary>\n",
    "void PrintRectangle(\n",
    "    int width,\n",
    "    int height,\n",
    "    char symbol = '*',\n",
    "    bool isFill = true,\n",
    "    char symbolClear = ' '\n",
    ")\n",
    "{\n",
    "    for (int r = 0; r < height; r++)\n",
    "    {\n",
    "        if (isFill || r == 0 || r == height - 1)\n",
    "            Console.WriteLine(new string(symbol, width));\n",
    "        else    \n",
    "            Console.WriteLine(symbol + new string(symbolClear, width-2) + symbol);\n",
    "    }    \n",
    "}\n",
    "PrintRectangle(20, 10, 'x', false)"
   ]
  },
  {
   "cell_type": "code",
   "execution_count": 1,
   "metadata": {
    "dotnet_interactive": {
     "language": "csharp"
    },
    "polyglot_notebook": {
     "kernelName": "csharp"
    },
    "vscode": {
     "languageId": "polyglot-notebook"
    }
   },
   "outputs": [
    {
     "data": {
      "text/html": [
       "<div class=\"dni-plaintext\"><pre>[ **********, *        *, *        *, *        *, *        *, ********** ]</pre></div><style>\r\n",
       ".dni-code-hint {\r\n",
       "    font-style: italic;\r\n",
       "    overflow: hidden;\r\n",
       "    white-space: nowrap;\r\n",
       "}\r\n",
       ".dni-treeview {\r\n",
       "    white-space: nowrap;\r\n",
       "}\r\n",
       ".dni-treeview td {\r\n",
       "    vertical-align: top;\r\n",
       "    text-align: start;\r\n",
       "}\r\n",
       "details.dni-treeview {\r\n",
       "    padding-left: 1em;\r\n",
       "}\r\n",
       "table td {\r\n",
       "    text-align: start;\r\n",
       "}\r\n",
       "table tr { \r\n",
       "    vertical-align: top; \r\n",
       "    margin: 0em 0px;\r\n",
       "}\r\n",
       "table tr td pre \r\n",
       "{ \r\n",
       "    vertical-align: top !important; \r\n",
       "    margin: 0em 0px !important;\r\n",
       "} \r\n",
       "table th {\r\n",
       "    text-align: start;\r\n",
       "}\r\n",
       "</style>"
      ]
     },
     "metadata": {},
     "output_type": "display_data"
    }
   ],
   "source": [
    "/// <summary>\n",
    "/// Вернуть прямоугольник  в виде массива строк.\n",
    "/// </summary>\n",
    "string[] GetRectangle(\n",
    "    int width,\n",
    "    int height,\n",
    "    char symbol = '*',\n",
    "    bool isFill = true,\n",
    "    char symbolClear = ' '\n",
    ")\n",
    "{\n",
    "    //List<string> result = new List<string>();\n",
    "    // var result = new List<string>();\n",
    "    List<string> result = new();\n",
    "\n",
    "    for (int r = 0; r < height; r++)\n",
    "    {\n",
    "        if (isFill || r == 0 || r == height - 1)\n",
    "            result.Add(new string(symbol, width));\n",
    "        else    \n",
    "            result.Add(symbol + new string(symbolClear, width-2) + symbol);\n",
    "    }\n",
    "\n",
    "    return result.ToArray();    \n",
    "}\n",
    "\n",
    "GetRectangle(10, 6, isFill: false)"
   ]
  },
  {
   "cell_type": "code",
   "execution_count": 9,
   "metadata": {
    "dotnet_interactive": {
     "language": "csharp"
    },
    "polyglot_notebook": {
     "kernelName": "csharp"
    },
    "vscode": {
     "languageId": "polyglot-notebook"
    }
   },
   "outputs": [
    {
     "name": "stdout",
     "output_type": "stream",
     "text": [
      "^^^^^^^^^^^^^^^^^^^^^^^^^^^^^^^^^^^^^^^^^^^^^^^^^^\n",
      "^^^^^^^^^^^^^^^^^^^^^^^^^^^^^^^^^^^^^^^^^^^^^^^^^^\n",
      "^^^^^^^^^^^^^^^^^^^^^^^^^^^^^^^^^^^^^^^^^^^^^^^^^^\n",
      "^^^^^^^^^^^^^^^^^^^^^^^^^^^^^^^^^^^^^^^^^^^^^^^^^^\n",
      "^^^^^^^^^^^^^^^^^^^^^^^^^^^^^^^^^^^^^^^^^^^^^^^^^^\n",
      "^^^^^^^^^^^^^^^^^^^^^^^^^^^^^^^^^^^^^^^^^^^^^^^^^^\n",
      "^^^^^^^^^^^^^^^^^^^^^^^^^^^^^^^^^^^^^^^^^^^^^^^^^^\n",
      "^^^^^^^^^^^^^^^^^^^^^^^^^^^^^^^^^^^^^^^^^^^^^^^^^^\n",
      "^^^^^^^^^^^^^^^^^^^^^^^^^^^^^^^^^^^^^^^^^^^^^^^^^^\n",
      "^^^^^^^^^^^^^^^^^^^^^^^^^^^^^^^^^^^^^^^^^^^^^^^^^^\n"
     ]
    }
   ],
   "source": [
    "void PrintZebra(int width, int height, char symbol = '=', int thickness = 1)\n",
    "{\n",
    "    for (int i = 0; i < height; i++)\n",
    "    {\n",
    "        if (i % 2 == 0)\n",
    "        {\n",
    "            Console.WriteLine(new string(symbol, width));\n",
    "        }\n",
    "        else\n",
    "        {\n",
    "            for (int t = 0; t < thickness; t++)\n",
    "            {\n",
    "                Console.WriteLine(new string(symbol, width));\n",
    "            }\n",
    "        }\n",
    "    }\n",
    "}\n",
    "\n",
    "PrintZebra(50, 10, '^', 1)"
   ]
  },
  {
   "cell_type": "code",
   "execution_count": 15,
   "metadata": {
    "dotnet_interactive": {
     "language": "csharp"
    },
    "polyglot_notebook": {
     "kernelName": "csharp"
    },
    "vscode": {
     "languageId": "polyglot-notebook"
    }
   },
   "outputs": [
    {
     "name": "stdout",
     "output_type": "stream",
     "text": [
      "*********\n",
      " *******\n",
      "  *****\n",
      "   ***\n",
      "    *\n",
      "   ***\n",
      "  *****\n",
      " *******\n",
      "*********\n"
     ]
    }
   ],
   "source": [
    "void PrintHourglass(int height, char symbol = '*')\n",
    "{\n",
    "    // Top part\n",
    "    for (int i = 0; i < height / 2; i++)\n",
    "    {\n",
    "        Console.WriteLine(new string(' ', i) + new string(symbol, height - 2 * i));\n",
    "    }\n",
    "\n",
    "    // Bottom part\n",
    "    for (int i = height / 2; i >= 0; i--)\n",
    "    {\n",
    "        Console.WriteLine(new string(' ', i) + new string(symbol, height - 2 * i));\n",
    "    }\n",
    "}\n",
    "PrintHourglass(9)"
   ]
  },
  {
   "cell_type": "code",
   "execution_count": 16,
   "metadata": {
    "dotnet_interactive": {
     "language": "csharp"
    },
    "polyglot_notebook": {
     "kernelName": "csharp"
    },
    "vscode": {
     "languageId": "polyglot-notebook"
    }
   },
   "outputs": [
    {
     "name": "stdout",
     "output_type": "stream",
     "text": [
      "111111111111111111111111111111111111111111111111111\n",
      "1                                                 1\n",
      "1                                                 1\n",
      "1                                                 1\n",
      "1                                                 1\n",
      "1                                                 1\n",
      "1                                                 1\n",
      "1                                                 1\n",
      "1                                                 1\n",
      "1                                                 1\n",
      "1         2         2         2         2         1\n",
      "1                                                 1\n",
      "1                                                 1\n",
      "1                                                 1\n",
      "1                                                 1\n",
      "1                                                 1\n",
      "1                                                 1\n",
      "1                                                 1\n",
      "1                                                 1\n",
      "1                                                 1\n",
      "1         3         3         3         3         1\n",
      "1                                                 1\n",
      "1                                                 1\n",
      "1                                                 1\n",
      "1                                                 1\n",
      "1                                                 1\n",
      "1                                                 1\n",
      "1                                                 1\n",
      "1                                                 1\n",
      "1                                                 1\n",
      "1         4         4         4         4         1\n",
      "1                                                 1\n",
      "1                                                 1\n",
      "1                                                 1\n",
      "1                                                 1\n",
      "1                                                 1\n",
      "1                                                 1\n",
      "1                                                 1\n",
      "1                                                 1\n",
      "1                                                 1\n",
      "1         5         5         5         5         1\n",
      "1                                                 1\n",
      "1                                                 1\n",
      "1                                                 1\n",
      "1                                                 1\n",
      "1                                                 1\n",
      "1                                                 1\n",
      "1                                                 1\n",
      "1                                                 1\n",
      "1                                                 1\n",
      "111111111111111111111111111111111111111111111111111\n"
     ]
    }
   ],
   "source": [
    "void PrintNestedRectangles(int size, char startChar = '1', int step = 1)\n",
    "{\n",
    "    for (int i = 0; i <= size; i++)\n",
    "    {\n",
    "        for (int j = 0; j <= size; j++)\n",
    "        {\n",
    "            if (i == 0 || i == size || j == 0 || j == size)\n",
    "            {\n",
    "                Console.Write(startChar);\n",
    "            }\n",
    "            else if (i % step == 0 && j % step == 0)\n",
    "            {\n",
    "                Console.Write((char)(startChar + (i / step) % 10));\n",
    "            }\n",
    "            else\n",
    "            {\n",
    "                Console.Write(' ');\n",
    "            }\n",
    "        }\n",
    "        Console.WriteLine();\n",
    "    }\n",
    "}\n",
    "PrintNestedRectangles(50, '1', 10)"
   ]
  }
 ],
 "metadata": {
  "kernelspec": {
   "display_name": ".NET (C#)",
   "language": "C#",
   "name": ".net-csharp"
  },
  "language_info": {
   "name": "python"
  },
  "polyglot_notebook": {
   "kernelInfo": {
    "defaultKernelName": "csharp",
    "items": [
     {
      "aliases": [],
      "name": "csharp"
     }
    ]
   }
  }
 },
 "nbformat": 4,
 "nbformat_minor": 2
}
