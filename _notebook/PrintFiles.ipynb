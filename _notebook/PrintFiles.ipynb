{
 "cells": [
  {
   "cell_type": "code",
   "execution_count": 1,
   "metadata": {
    "dotnet_interactive": {
     "language": "csharp"
    },
    "polyglot_notebook": {
     "kernelName": "csharp"
    },
    "vscode": {
     "languageId": "polyglot-notebook"
    }
   },
   "outputs": [
    {
     "name": "stdout",
     "output_type": "stream",
     "text": [
      "********************\n",
      "*                  *\n",
      "*                  *\n",
      "*                  *\n",
      "*                  *\n",
      "********************\n"
     ]
    }
   ],
   "source": [
    "int width = 20;\n",
    "int height = 6;\n",
    "/// <summary>\n",
    "/// Символ заполнения\n",
    "/// </summary>\n",
    "char symbol = '*';\n",
    "/// <summary>\n",
    "/// Символ заполнения\n",
    "/// </summary>\n",
    "bool isFill = ! true;\n",
    "char symbolClear = ' ';\n",
    "\n",
    "//3\n",
    "for (int r = 0; r < height; r++)\n",
    "{\n",
    "    if (isFill || r == 0 || r == height - 1)\n",
    "        Console.WriteLine(new string(symbol, width));\n",
    "    else    \n",
    "        Console.WriteLine(symbol + new string(symbolClear, width-2) + symbol);\n",
    "}\n",
    "\n",
    "//1\n",
    "// for (int r = 0; r < height; r++)\n",
    "// {\n",
    "//     for (int c = 0; c < width; c++)\n",
    "//     {\n",
    "//         if (isFill)\n",
    "//         {\n",
    "//             Console.Write(symbol);\n",
    "//         }\n",
    "//         else\n",
    "//         {\n",
    "//             if (r == 0 || r == height - 1 || c == 0 || c = width - 1)\n",
    "//             {\n",
    "//                 Console.Write(symbol);\n",
    "//             }\n",
    "//             else\n",
    "//             {\n",
    "//                 Console.Write(' ');\n",
    "//             }\n",
    "//         }\n",
    "//     }\n",
    "//     Console.WriteLine();\n",
    "// }\n",
    "\n",
    "//2\n",
    "// for (int r = 0; r < height; r++)\n",
    "// {\n",
    "//     for (int c = 0; c < width; c++)\n",
    "//     {\n",
    "//         bool isSymb = (isFill || r == 0 || r == height - 1 || c == 0 || c == width  - 1);\n",
    "//         Console.Write(isSymb ? symbol : symbolClear);\n",
    "//     }\n",
    "//     Console.WriteLine();\n",
    "// }\n",
    "\n"
   ]
  },
  {
   "cell_type": "code",
   "execution_count": 2,
   "metadata": {
    "dotnet_interactive": {
     "language": "csharp"
    },
    "polyglot_notebook": {
     "kernelName": "csharp"
    },
    "vscode": {
     "languageId": "polyglot-notebook"
    }
   },
   "outputs": [
    {
     "name": "stdout",
     "output_type": "stream",
     "text": [
      "xxxxxxxxxxxxxxxxxxxx\n",
      "x                  x\n",
      "x                  x\n",
      "x                  x\n",
      "x                  x\n",
      "x                  x\n",
      "x                  x\n",
      "x                  x\n",
      "x                  x\n",
      "xxxxxxxxxxxxxxxxxxxx\n"
     ]
    }
   ],
   "source": [
    "/// <summary>\n",
    "/// Нарисовать прямоугольник в консоли.\n",
    "/// </summary>\n",
    "void PrintRectangle(\n",
    "    int width,\n",
    "    int height,\n",
    "    char symbol = '*',\n",
    "    bool isFill = true,\n",
    "    char symbolClear = ' '\n",
    ")\n",
    "{\n",
    "    for (int r = 0; r < height; r++)\n",
    "    {\n",
    "        if (isFill || r == 0 || r == height - 1)\n",
    "            Console.WriteLine(new string(symbol, width));\n",
    "        else    \n",
    "            Console.WriteLine(symbol + new string(symbolClear, width-2) + symbol);\n",
    "    }    \n",
    "}\n",
    "PrintRectangle(20, 10, 'x', false)"
   ]
  },
  {
   "cell_type": "code",
   "execution_count": 1,
   "metadata": {
    "dotnet_interactive": {
     "language": "csharp"
    },
    "polyglot_notebook": {
     "kernelName": "csharp"
    },
    "vscode": {
     "languageId": "polyglot-notebook"
    }
   },
   "outputs": [
    {
     "data": {
      "text/html": [
       "<div class=\"dni-plaintext\"><pre>[ **********, *        *, *        *, *        *, *        *, ********** ]</pre></div><style>\r\n",
       ".dni-code-hint {\r\n",
       "    font-style: italic;\r\n",
       "    overflow: hidden;\r\n",
       "    white-space: nowrap;\r\n",
       "}\r\n",
       ".dni-treeview {\r\n",
       "    white-space: nowrap;\r\n",
       "}\r\n",
       ".dni-treeview td {\r\n",
       "    vertical-align: top;\r\n",
       "    text-align: start;\r\n",
       "}\r\n",
       "details.dni-treeview {\r\n",
       "    padding-left: 1em;\r\n",
       "}\r\n",
       "table td {\r\n",
       "    text-align: start;\r\n",
       "}\r\n",
       "table tr { \r\n",
       "    vertical-align: top; \r\n",
       "    margin: 0em 0px;\r\n",
       "}\r\n",
       "table tr td pre \r\n",
       "{ \r\n",
       "    vertical-align: top !important; \r\n",
       "    margin: 0em 0px !important;\r\n",
       "} \r\n",
       "table th {\r\n",
       "    text-align: start;\r\n",
       "}\r\n",
       "</style>"
      ]
     },
     "metadata": {},
     "output_type": "display_data"
    }
   ],
   "source": [
    "/// <summary>\n",
    "/// Вернуть прямоугольник  в виде массива строк.\n",
    "/// </summary>\n",
    "string[] GetRectangle(\n",
    "    int width,\n",
    "    int height,\n",
    "    char symbol = '*',\n",
    "    bool isFill = true,\n",
    "    char symbolClear = ' '\n",
    ")\n",
    "{\n",
    "    //List<string> result = new List<string>();\n",
    "    // var result = new List<string>();\n",
    "    List<string> result = new();\n",
    "\n",
    "    for (int r = 0; r < height; r++)\n",
    "    {\n",
    "        if (isFill || r == 0 || r == height - 1)\n",
    "            result.Add(new string(symbol, width));\n",
    "        else    \n",
    "            result.Add(symbol + new string(symbolClear, width-2) + symbol);\n",
    "    }\n",
    "\n",
    "    return result.ToArray();    \n",
    "}\n",
    "\n",
    "GetRectangle(10, 6, isFill: false)"
   ]
  }
 ],
 "metadata": {
  "kernelspec": {
   "display_name": ".NET (C#)",
   "language": "C#",
   "name": ".net-csharp"
  },
  "language_info": {
   "name": "python"
  },
  "polyglot_notebook": {
   "kernelInfo": {
    "defaultKernelName": "csharp",
    "items": [
     {
      "aliases": [],
      "name": "csharp"
     }
    ]
   }
  }
 },
 "nbformat": 4,
 "nbformat_minor": 2
}
