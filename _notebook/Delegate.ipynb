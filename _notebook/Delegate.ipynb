{
 "cells": [
  {
   "cell_type": "markdown",
   "metadata": {},
   "source": [
    "# Делегаты (delegate)"
   ]
  },
  {
   "cell_type": "markdown",
   "metadata": {},
   "source": [
    "## Пользовательские делегаты"
   ]
  },
  {
   "cell_type": "code",
   "execution_count": null,
   "metadata": {},
   "outputs": [
    {
     "name": "stdout",
     "output_type": "stream",
     "text": [
      "How are you?\n",
      "How are you?\n"
     ]
    }
   ],
   "source": [
    "delegate void Work();\n",
    "\n",
    "void Hello() => Console.WriteLine(\"Hello\");\n",
    "void HowAreYou() => Console.WriteLine(\"How are you?\");\n",
    "\n",
    "Work work;\n",
    "work = Hello;\n",
    "work = HowAreYou;\n",
    "\n",
    "work.Invoke();\n",
    "\n",
    "work()\n"
   ]
  },
  {
   "cell_type": "code",
   "execution_count": null,
   "metadata": {},
   "outputs": [
    {
     "name": "stdout",
     "output_type": "stream",
     "text": [
      "Hello\n",
      "Hello\n",
      "How are you?\n",
      "What?\n",
      "Bye\n"
     ]
    }
   ],
   "source": [
    "// Многотипный делегат\n",
    "\n",
    "Work work;\n",
    "work += Hello;\n",
    "work += Hello;\n",
    "work += Hello;\n",
    "work += HowAreYou;\n",
    "work -= Hello;\n",
    "// Используем анонимный метод (c# 2.0)\n",
    "work += delegate () {Console.WriteLine(\"What?\"); };\n",
    "\n",
    "// Используем лямбда-выражение (C# 3.0)\n",
    "work += () => Console.WriteLine(\"Bye\");\n",
    "work.Invoke();"
   ]
  },
  {
   "cell_type": "code",
   "execution_count": null,
   "metadata": {},
   "outputs": [
    {
     "name": "stdout",
     "output_type": "stream",
     "text": [
      "True\r\n"
     ]
    }
   ],
   "source": [
    "Work work;\n",
    "Console.WriteLine(work == null);\n",
    "\n",
    "//if (work != null)\n",
    "//   work.Invoke();\n",
    "\n",
    "\n",
    "work?.Invoke();"
   ]
  },
  {
   "cell_type": "code",
   "execution_count": null,
   "metadata": {},
   "outputs": [
    {
     "data": {
      "text/html": [
       "<div class=\"dni-plaintext\"><pre>-1</pre></div><style>\r\n",
       ".dni-code-hint {\r\n",
       "    font-style: italic;\r\n",
       "    overflow: hidden;\r\n",
       "    white-space: nowrap;\r\n",
       "}\r\n",
       ".dni-treeview {\r\n",
       "    white-space: nowrap;\r\n",
       "}\r\n",
       ".dni-treeview td {\r\n",
       "    vertical-align: top;\r\n",
       "    text-align: start;\r\n",
       "}\r\n",
       "details.dni-treeview {\r\n",
       "    padding-left: 1em;\r\n",
       "}\r\n",
       "table td {\r\n",
       "    text-align: start;\r\n",
       "}\r\n",
       "table tr { \r\n",
       "    vertical-align: top; \r\n",
       "    margin: 0em 0px;\r\n",
       "}\r\n",
       "table tr td pre \r\n",
       "{ \r\n",
       "    vertical-align: top !important; \r\n",
       "    margin: 0em 0px !important;\r\n",
       "} \r\n",
       "table th {\r\n",
       "    text-align: start;\r\n",
       "}\r\n",
       "</style>"
      ]
     },
     "metadata": {},
     "output_type": "display_data"
    }
   ],
   "source": [
    "delegate int MathOperation(int x, int y);\n",
    "\n",
    "int Add(int x, int y) => x + y;\n",
    "int Sub(int x, int y) => x - y;\n",
    "int Mul(int x, int y) => x * y;\n",
    "\n",
    "MathOperation calc;\n",
    "calc = Add;\n",
    "calc = Sub;\n",
    "calc(2, 3)"
   ]
  },
  {
   "cell_type": "code",
   "execution_count": null,
   "metadata": {},
   "outputs": [
    {
     "data": {
      "text/html": [
       "<div class=\"dni-plaintext\"><pre>5</pre></div><style>\r\n",
       ".dni-code-hint {\r\n",
       "    font-style: italic;\r\n",
       "    overflow: hidden;\r\n",
       "    white-space: nowrap;\r\n",
       "}\r\n",
       ".dni-treeview {\r\n",
       "    white-space: nowrap;\r\n",
       "}\r\n",
       ".dni-treeview td {\r\n",
       "    vertical-align: top;\r\n",
       "    text-align: start;\r\n",
       "}\r\n",
       "details.dni-treeview {\r\n",
       "    padding-left: 1em;\r\n",
       "}\r\n",
       "table td {\r\n",
       "    text-align: start;\r\n",
       "}\r\n",
       "table tr { \r\n",
       "    vertical-align: top; \r\n",
       "    margin: 0em 0px;\r\n",
       "}\r\n",
       "table tr td pre \r\n",
       "{ \r\n",
       "    vertical-align: top !important; \r\n",
       "    margin: 0em 0px !important;\r\n",
       "} \r\n",
       "table th {\r\n",
       "    text-align: start;\r\n",
       "}\r\n",
       "</style>"
      ]
     },
     "metadata": {},
     "output_type": "display_data"
    }
   ],
   "source": [
    "delegate int MathOperation(int x, int y);\n",
    "\n",
    "int Add(int x, int y) => x + y;\n",
    "int Sub(int x, int y) => x - y;\n",
    "int Mul(int x, int y) => x * y;\n",
    "\n",
    "Dictionary<string, MathOperation> calc = new()\n",
    "{\n",
    "    [\"+\"] = Add,\n",
    "    [\"-\"] = Sub,\n",
    "    [\"*\"] = Mul,\n",
    "};\n",
    "\n",
    "calc[\"+\"](2,3)"
   ]
  },
  {
   "cell_type": "code",
   "execution_count": null,
   "metadata": {},
   "outputs": [
    {
     "data": {
      "text/html": [
       "<div class=\"dni-plaintext\"><pre>5</pre></div><style>\r\n",
       ".dni-code-hint {\r\n",
       "    font-style: italic;\r\n",
       "    overflow: hidden;\r\n",
       "    white-space: nowrap;\r\n",
       "}\r\n",
       ".dni-treeview {\r\n",
       "    white-space: nowrap;\r\n",
       "}\r\n",
       ".dni-treeview td {\r\n",
       "    vertical-align: top;\r\n",
       "    text-align: start;\r\n",
       "}\r\n",
       "details.dni-treeview {\r\n",
       "    padding-left: 1em;\r\n",
       "}\r\n",
       "table td {\r\n",
       "    text-align: start;\r\n",
       "}\r\n",
       "table tr { \r\n",
       "    vertical-align: top; \r\n",
       "    margin: 0em 0px;\r\n",
       "}\r\n",
       "table tr td pre \r\n",
       "{ \r\n",
       "    vertical-align: top !important; \r\n",
       "    margin: 0em 0px !important;\r\n",
       "} \r\n",
       "table th {\r\n",
       "    text-align: start;\r\n",
       "}\r\n",
       "</style>"
      ]
     },
     "metadata": {},
     "output_type": "display_data"
    }
   ],
   "source": [
    "enum MathOperator { Add, Sub, Mul }\n",
    "delegate int MathOperation(int x, int y);\n",
    "\n",
    "Dictionary<MathOperator, MathOperation> calc = new()\n",
    "{\n",
    "    [MathOperator.Add] = (int x, int y) => x + y,\n",
    "    [MathOperator.Sub] = (int x, int y) => x - y,\n",
    "    [MathOperator.Mul] = (int x, int y) => x * y,\n",
    "};\n",
    "\n",
    "calc[MathOperator.Add](2,3)"
   ]
  },
  {
   "cell_type": "markdown",
   "metadata": {},
   "source": [
    "## Встроеннные (стандартные) делегаты\n",
    "\n",
    "- Action (Экшен)\n",
    "- Func (Функция делегирования)\n",
    "- Predicate (Предикат)"
   ]
  },
  {
   "cell_type": "code",
   "execution_count": null,
   "metadata": {},
   "outputs": [
    {
     "name": "stdout",
     "output_type": "stream",
     "text": [
      "Ваня\n",
      "5\n",
      "2 + 3 = 5\n"
     ]
    }
   ],
   "source": [
    "// Action\n",
    "\n",
    "Action printName = () => Console.WriteLine(\"Ваня\");\n",
    "printName();\n",
    "\n",
    "Action<int, int> printSum = (x,  y) => Console.WriteLine(x + y);\n",
    "printSum += (x, y) => Console.WriteLine($\"{x} + {y} = {x + y}\");\n",
    "printSum(2, 3);"
   ]
  }
 ],
 "metadata": {
  "kernelspec": {
   "display_name": ".NET (C#)",
   "language": "C#",
   "name": ".net-csharp"
  },
  "polyglot_notebook": {
   "kernelInfo": {
    "defaultKernelName": "csharp",
    "items": [
     {
      "aliases": [],
      "languageName": "csharp",
      "name": "csharp"
     }
    ]
   }
  }
 },
 "nbformat": 4,
 "nbformat_minor": 2
}
