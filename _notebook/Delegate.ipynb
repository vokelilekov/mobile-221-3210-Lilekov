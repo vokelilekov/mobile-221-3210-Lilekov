{
 "cells": [
  {
   "cell_type": "markdown",
   "metadata": {},
   "source": [
    "# Делегаты (delegate)"
   ]
  },
  {
   "cell_type": "markdown",
   "metadata": {},
   "source": [
    "## Пользовательские делегаты"
   ]
  },
  {
   "cell_type": "code",
   "execution_count": null,
   "metadata": {
    "dotnet_interactive": {
     "language": "csharp"
    },
    "polyglot_notebook": {
     "kernelName": "csharp"
    }
   },
   "outputs": [],
   "source": [
    "delegate void Work();\n",
    "\n",
    "void Hello() => Console.WriteLine(\"Hello\");\n",
    "void HowAreYou() => Console.WriteLine(\"How are you?\");\n",
    "\n",
    "Work work;\n",
    "work = Hello;\n",
    "work = HowAreYou;\n",
    "\n",
    "work.Invoke();\n",
    "\n",
    "work()\n"
   ]
  },
  {
   "cell_type": "code",
   "execution_count": null,
   "metadata": {
    "dotnet_interactive": {
     "language": "csharp"
    },
    "polyglot_notebook": {
     "kernelName": "csharp"
    }
   },
   "outputs": [],
   "source": [
    "// Многотипный делегат\n",
    "\n",
    "Work work;\n",
    "work += Hello;\n",
    "work += Hello;\n",
    "work += Hello;\n",
    "work += HowAreYou;\n",
    "work -= Hello;\n",
    "// Используем анонимный метод (c# 2.0)\n",
    "work += delegate () {Console.WriteLine(\"What?\"); };\n",
    "\n",
    "// Используем лямбда-выражение (C# 3.0)\n",
    "work += () => Console.WriteLine(\"Bye\");\n",
    "work.Invoke();"
   ]
  },
  {
   "cell_type": "code",
   "execution_count": null,
   "metadata": {
    "dotnet_interactive": {
     "language": "csharp"
    },
    "polyglot_notebook": {
     "kernelName": "csharp"
    }
   },
   "outputs": [],
   "source": [
    "Work work;\n",
    "Console.WriteLine(work == null);\n",
    "\n",
    "//if (work != null)\n",
    "//   work.Invoke();\n",
    "\n",
    "\n",
    "work?.Invoke();"
   ]
  },
  {
   "cell_type": "code",
   "execution_count": null,
   "metadata": {
    "dotnet_interactive": {
     "language": "csharp"
    },
    "polyglot_notebook": {
     "kernelName": "csharp"
    }
   },
   "outputs": [],
   "source": [
    "delegate int MathOperation(int x, int y);\n",
    "\n",
    "int Add(int x, int y) => x + y;\n",
    "int Sub(int x, int y) => x - y;\n",
    "int Mul(int x, int y) => x * y;\n",
    "\n",
    "MathOperation calc;\n",
    "calc = Add;\n",
    "calc = Sub;\n",
    "calc(2, 3)"
   ]
  },
  {
   "cell_type": "code",
   "execution_count": null,
   "metadata": {
    "dotnet_interactive": {
     "language": "csharp"
    },
    "polyglot_notebook": {
     "kernelName": "csharp"
    }
   },
   "outputs": [],
   "source": [
    "delegate int MathOperation(int x, int y);\n",
    "\n",
    "int Add(int x, int y) => x + y;\n",
    "int Sub(int x, int y) => x - y;\n",
    "int Mul(int x, int y) => x * y;\n",
    "\n",
    "Dictionary<string, MathOperation> calc = new()\n",
    "{\n",
    "    [\"+\"] = Add,\n",
    "    [\"-\"] = Sub,\n",
    "    [\"*\"] = Mul,\n",
    "};\n",
    "\n",
    "calc[\"+\"](2,3)"
   ]
  },
  {
   "cell_type": "code",
   "execution_count": null,
   "metadata": {
    "dotnet_interactive": {
     "language": "csharp"
    },
    "polyglot_notebook": {
     "kernelName": "csharp"
    }
   },
   "outputs": [],
   "source": [
    "enum MathOperator { Add, Sub, Mul }\n",
    "delegate int MathOperation(int x, int y);\n",
    "\n",
    "Dictionary<MathOperator, MathOperation> calc = new()\n",
    "{\n",
    "    [MathOperator.Add] = (int x, int y) => x + y,\n",
    "    [MathOperator.Sub] = (int x, int y) => x - y,\n",
    "    [MathOperator.Mul] = (int x, int y) => x * y,\n",
    "};\n",
    "\n",
    "calc[MathOperator.Add](2,3)"
   ]
  },
  {
   "cell_type": "markdown",
   "metadata": {},
   "source": [
    "## Встроеннные (стандартные) делегаты\n",
    "\n",
    "- Action (Экшен)\n",
    "- Func (Функция делегирования)\n",
    "- Predicate (Предикат)"
   ]
  },
  {
   "cell_type": "code",
   "execution_count": null,
   "metadata": {
    "dotnet_interactive": {
     "language": "csharp"
    },
    "polyglot_notebook": {
     "kernelName": "csharp"
    }
   },
   "outputs": [],
   "source": [
    "// Action\n",
    "\n",
    "Action printName = () => Console.WriteLine(\"Ваня\");\n",
    "printName();\n",
    "\n",
    "Action<int, int> printSum = (x,  y) => Console.WriteLine(x + y);\n",
    "printSum += (x, y) => Console.WriteLine($\"{x} + {y} = {x + y}\");\n",
    "printSum(2, 3);"
   ]
  }
 ],
 "metadata": {
  "kernelspec": {
   "display_name": ".NET (C#)",
   "language": "C#",
   "name": ".net-csharp"
  },
  "polyglot_notebook": {
   "kernelInfo": {
    "defaultKernelName": "csharp",
    "items": [
     {
      "aliases": [],
      "languageName": "csharp",
      "name": "csharp"
     }
    ]
   }
  }
 },
 "nbformat": 4,
 "nbformat_minor": 2
}
