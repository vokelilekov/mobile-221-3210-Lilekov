{
 "cells": [
  {
   "cell_type": "markdown",
   "metadata": {},
   "source": [
    "# Перечисление (Enum)"
   ]
  },
  {
   "cell_type": "code",
   "execution_count": 15,
   "metadata": {
    "dotnet_interactive": {
     "language": "csharp"
    },
    "polyglot_notebook": {
     "kernelName": "csharp"
    }
   },
   "outputs": [],
   "source": [
    "enum TaskStatus :byte {ToDo, InProgress, Done, Closed}\n",
    "\n",
    "TaskStatus taskStatus;\n",
    "taskStatus = TaskStatus.InProgress;\n",
    "Console.WriteLine(taskStatus); \n",
    "Console.WriteLine(taskStatus.ToString(\"D\")); \n",
    "Console.WriteLine(taskStatus.GetTypeCode()); \n",
    "\n",
    "if (taskStatus == TaskStatus.Done) {\n",
    "    Console.WriteLine(\"True\"); \n",
    "}\n",
    "else Console.WriteLine(\"False\"); "
   ]
  },
  {
   "cell_type": "code",
   "execution_count": 25,
   "metadata": {
    "dotnet_interactive": {
     "language": "csharp"
    },
    "polyglot_notebook": {
     "kernelName": "csharp"
    }
   },
   "outputs": [],
   "source": [
    "enum MultiColor: byte \n",
    "{\n",
    "    Red   = 1, //0b_0000_0001\n",
    "    Green = 2, //0b_0000_0010\n",
    "    Blue  = 4, //0b_0000_0100\n",
    "    Black = 8,  //0b_0000_1000\n",
    "    RedBlue = Red | Blue,\n",
    "    All = Red | Green | Blue | Black,\n",
    "}\n",
    "\n",
    "MultiColor multiColor;\n",
    "multiColor = MultiColor.Red;\n",
    "multiColor |= MultiColor.Blue; // Добавить\n",
    "Console.WriteLine(multiColor);\n",
    "Console.WriteLine(multiColor.ToString(\"D\"));\n",
    "\n",
    "multiColor = MultiColor.All;\n",
    "multiColor ^= MultiColor.Blue; // delete\n",
    "Console.WriteLine($\"{multiColor}\");"
   ]
  },
  {
   "cell_type": "code",
   "execution_count": 27,
   "metadata": {
    "dotnet_interactive": {
     "language": "csharp"
    },
    "polyglot_notebook": {
     "kernelName": "csharp"
    }
   },
   "outputs": [],
   "source": [
    "multiColor = MultiColor.RedBlue;\n",
    "// check\n",
    "Console.WriteLine($\" Это только Red = {multiColor == MultiColor.Red}\");\n",
    "Console.WriteLine($\" Присутствует Red = {multiColor.HasFlag(MultiColor.Red)}\");"
   ]
  },
  {
   "cell_type": "code",
   "execution_count": 32,
   "metadata": {
    "dotnet_interactive": {
     "language": "csharp"
    },
    "polyglot_notebook": {
     "kernelName": "csharp"
    }
   },
   "outputs": [],
   "source": [
    "foreach (var i in Enum.GetValues<MultiColor>())\n",
    "    Console.WriteLine($\"{i,3:D} | {i}\");"
   ]
  },
  {
   "cell_type": "code",
   "execution_count": null,
   "metadata": {
    "dotnet_interactive": {
     "language": "csharp"
    },
    "polyglot_notebook": {
     "kernelName": "csharp"
    }
   },
   "outputs": [],
   "source": [
    "enum MultiColor111: byte \n",
    "{\n",
    "    Red   = 1 << 0, //0b_0000_0001\n",
    "    Green = 1 << 1, //0b_0000_0010\n",
    "    Blue  = 1 << 2, //0b_0000_0100\n",
    "    Black = 1 << 3,  //0b_0000_1000\n",
    "    RedBlue = Red | Blue,\n",
    "    All = Red | Green | Blue | Black,\n",
    "}"
   ]
  }
 ],
 "metadata": {
  "kernelspec": {
   "display_name": ".NET (C#)",
   "language": "C#",
   "name": ".net-csharp"
  },
  "polyglot_notebook": {
   "kernelInfo": {
    "defaultKernelName": "csharp",
    "items": [
     {
      "aliases": [],
      "languageName": "csharp",
      "name": "csharp"
     }
    ]
   }
  }
 },
 "nbformat": 4,
 "nbformat_minor": 2
}
